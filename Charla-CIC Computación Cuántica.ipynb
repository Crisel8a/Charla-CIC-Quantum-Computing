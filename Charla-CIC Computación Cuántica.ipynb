{
 "cells": [
  {
   "cell_type": "markdown",
   "id": "910767eb-ec2a-40f4-9e6b-8cd996080b64",
   "metadata": {},
   "source": [
    "$ \\newcommand{\\bra}[1]{\\langle #1|} $\n",
    "$ \\newcommand{\\ket}[1]{|#1\\rangle} $\n",
    "$ \\newcommand{\\braket}[2]{\\langle #1|#2\\rangle} $\n",
    "$ \\newcommand{\\dot}[2]{ #1 \\cdot #2} $\n",
    "$ \\newcommand{\\biginner}[2]{\\left\\langle #1,#2\\right\\rangle} $\n",
    "$ \\newcommand{\\mymatrix}[2]{\\left( \\begin{array}{#1} #2\\end{array} \\right)} $\n",
    "$ \\newcommand{\\myvector}[1]{\\mymatrix{c}{#1}} $\n",
    "$ \\newcommand{\\myrvector}[1]{\\mymatrix{r}{#1}} $\n",
    "$ \\newcommand{\\mypar}[1]{\\left( #1 \\right)} $\n",
    "$ \\newcommand{\\mybigpar}[1]{ \\Big( #1 \\Big)} $\n",
    "$ \\newcommand{\\sqrttwo}{\\frac{1}{\\sqrt{2}}} $\n",
    "$ \\newcommand{\\dsqrttwo}{\\dfrac{1}{\\sqrt{2}}} $\n",
    "$ \\newcommand{\\onehalf}{\\frac{1}{2}} $\n",
    "$ \\newcommand{\\donehalf}{\\dfrac{1}{2}} $\n",
    "$ \\newcommand{\\hadamard}{ \\mymatrix{rr}{ \\sqrttwo & \\sqrttwo \\\\ \\sqrttwo & -\\sqrttwo }} $\n",
    "$ \\newcommand{\\vzero}{\\myvector{1\\\\0}} $\n",
    "$ \\newcommand{\\vone}{\\myvector{0\\\\1}} $\n",
    "$ \\newcommand{\\stateplus}{\\myvector{ \\sqrttwo \\\\  \\sqrttwo } } $\n",
    "$ \\newcommand{\\stateminus}{ \\myrvector{ \\sqrttwo \\\\ -\\sqrttwo } } $\n",
    "$ \\newcommand{\\myarray}[2]{ \\begin{array}{#1}#2\\end{array}} $\n",
    "$ \\newcommand{\\X}{ \\mymatrix{cc}{0 & 1 \\\\ 1 & 0}  } $\n",
    "$ \\newcommand{\\I}{ \\mymatrix{rr}{1 & 0 \\\\ 0 & 1}  } $\n",
    "$ \\newcommand{\\Z}{ \\mymatrix{rr}{1 & 0 \\\\ 0 & -1}  } $\n",
    "$ \\newcommand{\\Htwo}{ \\mymatrix{rrrr}{ \\frac{1}{2} & \\frac{1}{2} & \\frac{1}{2} & \\frac{1}{2} \\\\ \\frac{1}{2} & -\\frac{1}{2} & \\frac{1}{2} & -\\frac{1}{2} \\\\ \\frac{1}{2} & \\frac{1}{2} & -\\frac{1}{2} & -\\frac{1}{2} \\\\ \\frac{1}{2} & -\\frac{1}{2} & -\\frac{1}{2} & \\frac{1}{2} } } $\n",
    "$ \\newcommand{\\CNOT}{ \\mymatrix{cccc}{1 & 0 & 0 & 0 \\\\ 0 & 1 & 0 & 0 \\\\ 0 & 0 & 0 & 1 \\\\ 0 & 0 & 1 & 0} } $\n",
    "$ \\newcommand{\\norm}[1]{ \\left\\lVert #1 \\right\\rVert } $\n",
    "$ \\newcommand{\\pstate}[1]{ \\lceil \\mspace{-1mu} #1 \\mspace{-1.5mu} \\rfloor } $\n",
    "$ \\newcommand{\\greenbit}[1] {\\mathbf{{\\color{green}#1}}} $\n",
    "$ \\newcommand{\\bluebit}[1] {\\mathbf{{\\color{blue}#1}}} $\n",
    "$ \\newcommand{\\redbit}[1] {\\mathbf{{\\color{red}#1}}} $\n",
    "$ \\newcommand{\\brownbit}[1] {\\mathbf{{\\color{brown}#1}}} $\n",
    "$ \\newcommand{\\blackbit}[1] {\\mathbf{{\\color{black}#1}}} $"
   ]
  },
  {
   "cell_type": "markdown",
   "id": "bd8faca2-2467-4dfa-9c47-ad091748b0e4",
   "metadata": {},
   "source": [
    "<h1 align=\"left\" style=\"color: #cd7f32;\"> COMPUTACIÓN CUÁNTICA </h1>\n",
    "<h4> Con ❤ por Crisel y Joules @ESFM</h4>\n",
    "\n",
    "## Contenido\n",
    "- [Información Clásica Determinista](#Infob)\n",
    "    - [Dispositivo Físico](#Dispositivo-Físico)\n",
    "    - [Cambios de Estado en el Sistema](#Cambios-de-Estado-en-el-Sistema)\n",
    "    - [Representación en Tablas](#Representación-en-Tablas)\n",
    "    - [Múltiples Dispositivos Físicos](#Múltiples-Dispositivos-Físicos)\n",
    "- [Probabilidad](#Probabilidad)\n",
    "    - [Probabilidad de Estados](#Probabilidad-de-Estados)\n",
    "- [Moneda Clásica](#Moneda-Clásica)\n",
    "    - [Modelación de una Moneda Clásica Justa](#Modelación-de-una-Moneda-Clásica-Justa)\n",
    "    - [Simulación de una Moneda Clásica Justa](#Simulación-de-una-Moneda-Clásica-Justa)\n",
    "    - [Modelación de una Moneda Clásica Injusta](#Modelación-de-una-Moneda-Clásica-Injusta)\n",
    "    - [El Juego](#El-Juego) ANALIZAR ESTA WEA\n",
    "    \n",
    "- [Más Proba](#Más-Proba)\n",
    "    - [Estado Probabilistico](#Estado-Probabilistico)\n",
    "    - [Operador Probabilistico](#Operador-Probabilistico)\n",
    "    - [Evolución Probabilistica](#Evolución-Probabilistica)\n",
    "    \n",
    "- [Dos Bits Probabilisticos](#Dos-Bits-Probabilisticos)\n",
    "    - [Representación Para Los Estados 0 y 1](#Representación-Para-Los-Estados-0-y-1)\n",
    "    - [Sistema Compuesto](#Sistema-Compuesto)\n",
    "\n",
    "- [Moneda Cuántica](#Moneda-Cuántica) \n",
    "    - [Explicación del hardware](#)\n",
    "    - [Experimentos](#) cuadernillo de fotones   \n",
    "    \n",
    "- [Computación cuántica](#Computación-Cuántica)\n",
    "    - [Cuántica](#Cuántica)\n",
    "    - [Quibit](#Quibit)\n",
    "    - [Introducción a Qiskit](#Qiskit)\n",
    "    - [Fundamentos matemáticos](#)\n",
    "        - [Notación Bra-Ket](#)\n",
    "        - [Estado Cuántico](#)\n",
    "        - [Compuerta Hadamard](#)\n",
    "        - [Más Compuertas (X y Z)](#)\n",
    "        - [Visualisación de un qubit](#) \n",
    "- [Programación Cuántica](#)\n",
    "    - [Circuitos Cuánticos con Qiskit](#)\n",
    "    - [Simulación de los experimentos](#)\n",
    "- [Superposición](#)\n"
   ]
  },
  {
   "cell_type": "markdown",
   "id": "5441c1c6-0f2d-4d70-acb2-73501d7b6893",
   "metadata": {},
   "source": [
    "\n",
    "<div class=\"alert alert-block alert-warning\"> <b>Referencia externa:</b> Si quisieras saber más sobre un tema, te dejaremos enlaces para que investigues por tu cuenta </div>\n",
    "\n",
    "<div class=\"alert alert-block alert-danger\"> <b>Advertencia:</b> Antes de ejecutar ciertos códigos deberás leer estos bloques</div>\n"
   ]
  },
  {
   "cell_type": "markdown",
   "id": "83016428-af0c-44c6-80f0-1faccab8b22c",
   "metadata": {
    "tags": []
   },
   "source": [
    "# Información Clásica Determinista\n",
    "## Dispositivo Físico\n",
    "\n",
    "<div class=\"alert alert-block alert-info\"> <b>Definición:</b> Sea $X$ un conjunto, decimos que $X$ es un <b>dispositivo físico</b> si $X$ es no vacío y finito. A los elemenos de $X$ les llamaremos <b>estados</b>. </div>\n",
    "\n",
    "Comunmente, a los dispositivos físicos se les denota con la letra griega $\\Sigma$.\n",
    "\n",
    "<div class=\"alert alert-block alert-success\"> <b>Nota:</b> Un dispositivo físico no puede ser elemento de otro dispositivo físico.</div>\n",
    "\n",
    "**EJEMPLOS** \n",
    "\n",
    "- $\\Sigma = \\{0,1\\}$\n",
    "- $X = \\{sol,águila\\}$\n",
    "- $A = \\{<,=, >\\}$\n",
    "- $DADO = \\{1, 2, 3, 4, 5, 6\\}$\n",
    "\n",
    "## Cambios de Estado en el Sistema\n",
    "\n",
    "Nos preguntamos ahora si es posible cambiar los estados de un dispositivo físico. Esto lo haremos con **funciones de cambio de estado**. \n",
    "\n",
    "<div class=\"alert alert-block alert-info\"> <b>Definición:</b> Sea $f$ una función, entonces $f$ es una <b>función de cambio cambio de estado</b> si $f$ esta definida de un dispositivo $\\Sigma$ en sí mismo, $f: \\Sigma \\to \\Sigma$. </div>\n",
    "\n",
    "<div class=\"alert alert-block alert-success\"> <b>Nota:</b> Para un dispositivo físico con $n$ elementos, se pueden definir $2^n$ de estas funciones.</div>\n",
    "\n",
    "Nos concentraremos en los dispositivos físicos con dos estados (binarios).\n",
    "\n",
    "**EJEMPLO**\n",
    "\n",
    "Para el dispositivo físico $\\Sigma = \\{0,1\\}$, existen $2^2 = 4$ funciones de estado, es decir\n",
    "$$f_i : \\{0,1\\} \\to \\{0,1\\}, \\forall i \\in \\{0,1,2,3\\}$$\n",
    "\n",
    "| **$X$**             | $f_0$    | $f_1$| $f_2$ | $f_3$ |\n",
    "|-------------------|-------------|---------------|--------------|--------------|\n",
    "| **0**   | 0    | 1             | 0        | 1\n",
    "| **1**         | 1       | 0             | 0  | 1 \n",
    "\n",
    "A estas funciones les daremos nombres:\n",
    "\n",
    "<ol>\n",
    "    <li> Identidad: $ f_0 := I(0) = 0 $ and $ I(1) = 1 $ </li>\n",
    "    <li> Negación: $ f_1 := NOT(0) = 1 $ and $ NOT(1) = 0 $ </li>\n",
    "    <li> Constante (Cero): $ f_2 := ZERO(0) = 0 $ and $ ZERO(1) = 0 $ </li>\n",
    "    <li> Constante (Uno): $ f_3 := ONE(0) = 1 $ and $ ONE(1) = 1 $ </li>\n",
    "</ol>"
   ]
  },
  {
   "cell_type": "markdown",
   "id": "3e12a33e-1a3b-4653-95ed-a3dcb20b5340",
   "metadata": {},
   "source": [
    "## Representación en Tablas\n",
    "\n",
    "En la representación que usaremos, el estado inicial esta arriba y el estado final esta a la derecha:\n",
    "\n",
    "$\n",
    "    \\begin{array}{c|c}\n",
    "        & estados~iniciales \\\\ \\hline\n",
    "        estados~finales&\\hookleftarrow\n",
    "    \\end{array}\n",
    "$\n",
    "\n",
    "Así, podemos representar las funciones de cambio de estado definidas anteriormente con tablas, por ejemplo\n",
    "\n",
    "$\n",
    "I = \\begin{array}{lc|cc} & & estado & incial \\\\ & \\hookleftarrow & \\mathbf{0} & \\mathbf{1} \\\\ \\hline estado & \\mathbf{0} & 1 & 0 \\\\  \n",
    "    final & \\mathbf{1} & 0 & 1  \\end{array}\n",
    "~~~\n",
    "ONE = \\begin{array}{lc|cc} & & estado & incial \\\\ & \\hookleftarrow & \\mathbf{0} & \\mathbf{1} \\\\ \\hline estado & \\mathbf{0} & 0 & 0 \\\\  \n",
    "    final & \\mathbf{1} & 1 & 1  \\end{array}\n",
    "~~~\n",
    "$\n",
    "\n",
    "$\n",
    "NOT = \\begin{array}{lc|cc} & & estado & incial \\\\ & \\hookleftarrow & \\mathbf{0} & \\mathbf{1} \\\\ \\hline estado & \\mathbf{0} & 0 & 1 \\\\  \n",
    "    final & \\mathbf{1} & 1 & 0  \\end{array}\n",
    "~~~\n",
    "ZERO = \\begin{array}{lc|cc} & & estado & incial \\\\ & \\hookleftarrow & \\mathbf{0} & \\mathbf{1} \\\\ \\hline estado & \\mathbf{0} & 1 & 1 \\\\  \n",
    "    final & \\mathbf{1} & 0 & 0  \\end{array}\n",
    "~~~\n",
    "$\n"
   ]
  },
  {
   "cell_type": "markdown",
   "id": "50ee5298-8459-40c9-b47a-920123519ad3",
   "metadata": {},
   "source": [
    "\n",
    "## Múltiples Dispositivos Físicos\n",
    "\n",
    "¿podemos juntar varios dispositivos físicos? \n",
    "\n",
    "Para $\\Sigma = \\{0,1\\}$, tendremos $$\\Sigma^2 = \\{00,01, 10, 11\\}$$\n",
    "Así, en general tendremos que si $\\Sigma$ tiene $n$ estados, entonces $\\Sigma^n$ tendrá $2^n$ elementos.\n",
    "\n",
    "$$\\Sigma^3 = \\{000,001, 010,011,100, 101, 110, 111\\}$$\n",
    "\n",
    "\n",
    "\n",
    "<div class=\"alert alert-block alert-success\"> <b>Nota:</b> Dados $m$ dispositivos físicos $\\Sigma$ de 2 elmentos cada uno, el nuevo dispositivo físico múltiple $\\Sigma'$ tendrá $2^m$ elementos. Por lo tanto, tendremos $2^{2^m}$ funciones de cambio de estado.</div>\n",
    "\n",
    "\n"
   ]
  },
  {
   "cell_type": "markdown",
   "id": "7f139b89-ca03-4753-803d-3ce85b8e3524",
   "metadata": {},
   "source": [
    "# Probabilidad \n",
    "\n",
    "Hasta el momento sabemos el estado exacto de un sistema, pero qué sucede cuando no. Nos apoyamos de la probabilidad para modelar los posibles estados en que se encuentra un sistema. \n",
    "\n",
    "## Probabilidad de Estados\n",
    "\n",
    "Para es dispositivo físico $\\Sigma = \\{0,1\\}$, si el estado $\\sigma_1 = 0$ tiene un probabilidad $P$ entonces el estado $\\sigma_2 = 1$ tendrá una probabilidad de $1-P$.\n",
    "\n",
    "<ul>\n",
    "    <li> $ Probabilidad(\\sigma_1) = P $ </li>\n",
    "    <li> $ Probabilidad(\\sigma_2) = 1-P $ </li>\n",
    "    <li> $ 1 = Probabilidad(\\sigma_1) + Probabilidad(\\sigma_2) $ </li>\n",
    "</ul>\n",
    "\n",
    "\n",
    "\n",
    "Para los dispositivos físicos binarios que utilizaremos, la probabilidad la representamos con un vector columna de dos entradas.\n",
    "\n",
    "$$ \\hat v = \\begin{pmatrix} v_{\\sigma_1}  \\\\ v_{\\sigma_2}  \\end{pmatrix} = \\begin{pmatrix} P  \\\\ 1-P  \\end{pmatrix} $$\n",
    "\n",
    "<div class=\"alert alert-block alert-success\"> <b>Nota:</b> Cuando vemos el dispositivo físico $\\Sigma$, no veremos sus probabilidades, es decir, no veremos $P$ ni $1-P$, en su lugar veremos el estado correspondiente a esa probabilidad.</div>\n",
    "\n",
    "Representar la probabilidad como vector nos ayuda por ejemplo para operar una transformación con nuestro vector de probabilidad, veamos por ejemplo qué ocurre al operar $\\hat v \\$ con la siguiente matriz\n",
    "\n",
    "$$ \\begin{pmatrix} 0 & 1 \\\\ 1 & 0 \\end{pmatrix} \\cdot \\hat v = \\begin{pmatrix} 0 & 1 \\\\ 1 & 0 \\end{pmatrix} \\cdot \\begin{pmatrix} v_{\\sigma_1}  \\\\ v_{\\sigma_2}  \\end{pmatrix} = \\begin{pmatrix} 0 & 1 \\\\ 1 & 0 \\end{pmatrix} \\cdot \\begin{pmatrix} P  \\\\ 1-P  \\end{pmatrix} = \\begin{pmatrix} 1-P  \\\\ P  \\end{pmatrix}$$\n",
    "\n",
    "¡Las probabilidades se invierten!"
   ]
  },
  {
   "cell_type": "markdown",
   "id": "d85c7ffa-7557-410c-8992-8c1964d9e697",
   "metadata": {},
   "source": [
    "# Moneda Clásica\n",
    "## Modelación de una Moneda Clásica Justa\n",
    "\n",
    "Una moneda justa tiene la misma probabilidad en ambos estados y puede ser representada como un dispositivo físico binario\n",
    "\n",
    "$$Moneda = \\{cara, cruz\\}$$\n",
    "\n",
    "Podemos representar estos estados con un sólo bit clásico\n",
    "\n",
    "- 0 representa cara\n",
    "- 1 representa cruz\n",
    "\n",
    "Sabemos que si nuestra moneda es justa, la probabilidad de que salga cara es igual a la probabilidad de que salga cruz y tiene valor de $\\frac{1}{2}$. Podemos representarlo como \n",
    "\n",
    "<ul>\n",
    "    <li> $ Probabilidad(Cara) = \\frac{1}{2} $ </li>\n",
    "    <li> $ Probabilidad(Cruz) = \\frac{1}{2} $ </li>\n",
    "    <li> $ 1 = Probabilidad(Cara) + Probabilidad(Cruz) $ </li>\n",
    "</ul>"
   ]
  },
  {
   "cell_type": "markdown",
   "id": "321d2dda-3808-4496-9780-6953ddc2ba40",
   "metadata": {},
   "source": [
    "## Simulación de una Moneda Clásica Justa \n",
    "\n",
    "**Lanzar una moneda una vez**"
   ]
  },
  {
   "cell_type": "code",
   "execution_count": 1,
   "id": "1c9c98c8-6012-467d-a1eb-932e8ef7d7d1",
   "metadata": {},
   "outputs": [],
   "source": [
    "from random import randint\n",
    "\n",
    "moneda = randint(0,1)"
   ]
  },
  {
   "cell_type": "code",
   "execution_count": 2,
   "id": "d28df5d8-e540-471e-9898-00a169a107f8",
   "metadata": {},
   "outputs": [
    {
     "data": {
      "text/plain": [
       "1"
      ]
     },
     "execution_count": 2,
     "metadata": {},
     "output_type": "execute_result"
    }
   ],
   "source": [
    "moneda"
   ]
  },
  {
   "cell_type": "markdown",
   "id": "fdcbee62-576f-4f5b-9310-8808e1b64e37",
   "metadata": {},
   "source": [
    "**Lanzar una moneda $N$ veces**"
   ]
  },
  {
   "cell_type": "code",
   "execution_count": 3,
   "id": "9e7fc224-5bdc-4700-b104-5925d801d349",
   "metadata": {},
   "outputs": [],
   "source": [
    "N = 100\n",
    "moneda = [randint(0,1) for i  in range(N)] "
   ]
  },
  {
   "cell_type": "markdown",
   "id": "ae353169-54d5-42b8-9e44-ebc0fa520317",
   "metadata": {},
   "source": [
    "**Verificando la probabilidad de 0.5**"
   ]
  },
  {
   "cell_type": "code",
   "execution_count": 5,
   "id": "07b6de24-1838-4605-b26b-1e98355d8dec",
   "metadata": {},
   "outputs": [],
   "source": [
    "proba = sum(moneda)/N"
   ]
  },
  {
   "cell_type": "code",
   "execution_count": 6,
   "id": "42714582-df60-495e-a729-ddd2dc03252b",
   "metadata": {},
   "outputs": [
    {
     "data": {
      "text/plain": [
       "0.53"
      ]
     },
     "execution_count": 6,
     "metadata": {},
     "output_type": "execute_result"
    }
   ],
   "source": [
    "proba"
   ]
  },
  {
   "cell_type": "markdown",
   "id": "baa05477-4d0f-4346-800e-df6f30fd8969",
   "metadata": {},
   "source": [
    "## Modelación de una Moneda Clásica Injusta\n",
    "\n",
    "Nuestra moneda puede tener un sesgo, esto es cuando un estado tiene una probabilidad mayor al otro, por ejemplo\n",
    "\n",
    "$\n",
    "MonedaInjusta = \\begin{array}{c|cc} \\hookleftarrow & \\mathbf{Cara} & \\mathbf{Cruz} \\\\ \\hline \\mathbf{Cara} & 0.6 & 0.6 \\\\  \\mathbf{Cruz} & 0.4 & 0.4  \\end{array}\n",
    "$"
   ]
  },
  {
   "cell_type": "code",
   "execution_count": 7,
   "id": "213f0f5d-356b-40e1-ab1f-8b052e16a097",
   "metadata": {},
   "outputs": [],
   "source": [
    "from random import choice\n",
    "\n",
    "espacio = [0,0,0,0,0,0,1,1,1,1]\n",
    "monedaInjusta = choice(espacio)"
   ]
  },
  {
   "cell_type": "code",
   "execution_count": 13,
   "id": "a23d5187-89db-48a1-b403-d254e88c08ca",
   "metadata": {},
   "outputs": [
    {
     "data": {
      "text/plain": [
       "0.403"
      ]
     },
     "execution_count": 13,
     "metadata": {},
     "output_type": "execute_result"
    }
   ],
   "source": [
    "N = 1000\n",
    "\n",
    "monedaInjusta = [choice(espacio) for i in range(N)]\n",
    "proba_cruz = sum(monedaInjusta)/N\n",
    "proba_cruz"
   ]
  },
  {
   "cell_type": "markdown",
   "id": "a18a3673-5421-4239-bcbc-7600210da762",
   "metadata": {},
   "source": [
    "<div class=\"alert alert-block alert-success\"> <b>Nota:</b> Observemos que el resultado del lanzamiento anterior no afecta a la probabilidad del nuevo lanzamiento. </div>"
   ]
  },
  {
   "cell_type": "markdown",
   "id": "727040f4-6c0e-4d15-8c2f-1f55d2951d35",
   "metadata": {},
   "source": [
    "## El Juego\n",
    "\n",
    "Divulgón tiene dos monedas, un centavo y un euro. \n",
    "\n",
    "Ambas monedas son injustas y la probabilidad de que salga cara o cruz en ambas son las siguientes:\n",
    "\n",
    "<ul>\n",
    "    <li> euro: cara con probabilidad $ 0.6 $ y cruz con probabilidad $ 0.4 $. </li>\n",
    "    <li> centavo: cara con probabilidad $ 0.3 $ y cruz con probabilidad $ 0.7 $. </li>\n",
    "</ul>\n",
    "\n",
    "Divulgón lanza las monedas bajo el siguiente <b>algoritmo</b>: \n",
    "<ol> \n",
    "    <li> Lanza primero el euro </li>\n",
    "    <li> Cuando salga cara, lanza el euro de nuevo </li>\n",
    "    <li> Cuando salga cruz, lanza el centavo </li>\n",
    "</ol>\n",
    "\n",
    "Ontenemos la siguiente representación\n",
    "\n",
    "$\n",
    "ElJuego = \\begin{array}{c|cc} \\hookleftarrow & \\mathbf{Cara} & \\mathbf{Cruz} \\\\ \\hline \\mathbf{Cara} & 0.6 & 0.3\\\\  \\mathbf{Cruz} & 0.4 & 0.7  \\end{array} = \\begin{array}{c|cc} \\hookleftarrow & \\mathbf{0} & \\mathbf{1} \\\\ \\hline \\mathbf{0} & 0.6 & 0.3 \\\\  \\mathbf{1} & 0.4 & 0.7  \\end{array}\n",
    "$\n",
    "\n",
    "<div class=\"alert alert-block alert-success\"> <b>Nota:</b> Observemos que el resultado del lanzamiento anterior ahora sí afecta a la probabilidad del nuevo lanzamiento. Tenemos que arreglar entonces una condición inicial. </div>\n",
    "\n",
    "¡Juguemos N veces!"
   ]
  },
  {
   "cell_type": "code",
   "execution_count": 42,
   "id": "6f750cfb-1e95-4965-a353-baf41ee41aa6",
   "metadata": {},
   "outputs": [
    {
     "data": {
      "text/plain": [
       "(0.53, 0.47)"
      ]
     },
     "execution_count": 42,
     "metadata": {},
     "output_type": "execute_result"
    }
   ],
   "source": [
    "N = 3\n",
    "\n",
    "espacio_euro = [0,0,0,0,0,0,1,1,1,1] \n",
    "espacio_centavo = [0,0,0,1,1,1,1,1,1,1]\n",
    "\n",
    "estado_inicial = 0 #cara\n",
    "caras = 0\n",
    "    \n",
    "for _ in range(100):\n",
    "    resultado_anterior = estado_inicial\n",
    "\n",
    "    for i in range(N):\n",
    "        if resultado_anterior == 0:\n",
    "            resultado_anterior = choice(espacio_euro)\n",
    "        else:\n",
    "            resultado_anterior = choice(espacio_centavo)\n",
    "    caras += resultado_anterior\n",
    "\n",
    "proba_caras = caras/100\n",
    "proba_cruz = 1 - proba_caras\n",
    "\n",
    "proba_caras,proba_cruz"
   ]
  },
  {
   "cell_type": "code",
   "execution_count": 43,
   "id": "06625c52-2339-4607-a784-b1013354de6e",
   "metadata": {},
   "outputs": [
    {
     "data": {
      "text/plain": [
       "(0.56, 0.43999999999999995)"
      ]
     },
     "execution_count": 43,
     "metadata": {},
     "output_type": "execute_result"
    }
   ],
   "source": [
    "N = 3\n",
    "\n",
    "espacio_euro = [0,0,0,0,0,0,1,1,1,1] \n",
    "espacio_centavo = [0,0,0,1,1,1,1,1,1,1]\n",
    "\n",
    "estado_inicial = 0 #cara\n",
    "caras = 0\n",
    "    \n",
    "for _ in range(100):\n",
    "    resultado_anterior = estado_inicial\n",
    "\n",
    "    for i in range(N):\n",
    "        if resultado_anterior == 0:\n",
    "            resultado_anterior = choice(espacio_euro)\n",
    "        else:\n",
    "            resultado_anterior = choice(espacio_centavo)\n",
    "    caras += resultado_anterior\n",
    "\n",
    "proba_caras = caras/100\n",
    "proba_cruz = 1 - proba_caras\n",
    "\n",
    "proba_caras,proba_cruz"
   ]
  },
  {
   "cell_type": "markdown",
   "id": "100f512e-851d-4c04-a84f-28e139792f22",
   "metadata": {},
   "source": [
    "Supongamos ahora que Divulgón juega con una moneda justa en secreto, como no sabemos el resultado, la información se vuelve probabilistica. \n",
    "\n",
    "Si nuestra moneda inicial tiene una razón de $ \\dfrac{Pr(Cara)}{Pr(Cruz)} = \\dfrac{3}{1}$, es decir, cuando la probabilidad de que salga cara es tres veces mayor a la probabilidad de que salga cruz. Como la probabilidad total es $1$, al dividirla en cuatro (tres partes para las caras y una para las cruces), la infromación del resultado será $ 0.75 $ de probabilidad para las caras y $ 0.25 $ de probabilidad para las cruces.\n",
    "\n",
    "Nuestro nuevo vector probabilidad será:\n",
    "\n",
    "$$\\hat v = \\begin{pmatrix} 0.75  \\\\ 0.25  \\end{pmatrix}$$\n",
    "\n",
    "# Más Proba\n",
    "## Estado Probabilistico\n",
    "\n",
    "<div class=\"alert alert-block alert-info\"> <b>Definición:</b> Un  <b>estado probabilistico</b> es una combinación lineal de vectores en la base canónica cuyas componentes satisfacen las siguientes condiciones:\n",
    "\n",
    "<ol>\n",
    "    <li> Cada componente es no negativa </li>\n",
    "    <li> La suma de las componentes debe ser igual a $1$ </li>\n",
    "</ol> \n",
    "    \n",
    "También se le llama <b>vector estocástico</b>.\n",
    "    \n",
    "</div>\n",
    "\n",
    "Juguemos de nuevo, pero ahora con más mates puras y duras. \n",
    "\n",
    "<b>Después del primer lanzamiento:</b>\n",
    "\n",
    "$  \\mypar{ \n",
    "        ElJuego = \\begin{array}{c|cc} \\hookleftarrow & \\mathbf{Cara} & \\mathbf{Cruz} \\\\ \\hline \\mathbf{Cara} & 0.6 & 0.3\\\\  \\mathbf{Cruz} & 0.4 & 0.7  \\end{array}\n",
    "        }\n",
    "    \\mypar{\n",
    "        EstadoInicial=\\myvector{1 \\\\ 0}\n",
    "    } $\n",
    "    \n",
    "Cada entrada de nuestro nuevo vector es calculada con la sima de cada fila y el estado inicial:\n",
    "\n",
    "$\n",
    "\\myvector{  0.6 \\cdot 1 \\\\ + \\\\ 0.3 \\cdot 0 \\\\ \\hline 0.4 \\cdot 1 \\\\ + \\\\ 0.7 \\cdot 0  }\n",
    "=\n",
    "\\myvector{ 0.6 + 0 \\\\ 0.4 + 0 }\n",
    "=\n",
    "\\myvector{0.6 \\\\ 0.4}.\n",
    "$\n",
    "\n",
    "<b>Después del segundo lanzamiento:</b>\n",
    "\n",
    "$  \\mypar{ \n",
    "        ElJuego = \\begin{array}{c|cc} \\hookleftarrow & \\mathbf{Cara} & \\mathbf{Cruz} \\\\ \\hline \\mathbf{Cara} & 0.6 & 0.3\\\\  \\mathbf{Cruz} & 0.4 & 0.7  \\end{array}\n",
    "        }\n",
    "    \\mypar{\n",
    "        EstadoInicial=\\myvector{0.6 \\\\ 0.4}\n",
    "    } $\n",
    "    \n",
    "Obtenemos:\n",
    "\n",
    "$\n",
    "\\myvector{  0.6 \\cdot 0.6 \\\\ + \\\\ 0.3 \\cdot 0.4 \\\\ \\hline 0.4 \\cdot 0.6 \\\\ + \\\\ 0.7 \\cdot 0.4  }\n",
    "=\n",
    "\\myvector{ 0.36 + 0.12 \\\\ 0.24 + 0.28 }\n",
    "=\n",
    "\\myvector{0.48 \\\\ 0.52}.\n",
    "$\n",
    "\n",
    "Este último vector es muy parecido al resultado de la simulación anterior. \n",
    "\n",
    "<b>Algoritmo de lanzamiento</b>.\n",
    "\n",
    "El algoritmo de lanzamiento determina el siguiente estado:\n",
    "\n",
    "$$\n",
    "    \\myvector{1 \\\\ 0} \\xrightarrow{\\mbox{Algoritmo de Lanzamiento}} \\myvector{0.6 \\\\ 0.4}\n",
    "    \\xrightarrow{\\mbox{Algoritmo de Lanzamiento}}  \\myvector{0.48 \\\\ 0.52}.\n",
    "$$"
   ]
  },
  {
   "cell_type": "markdown",
   "id": "c85594d5-bd2a-4e66-a043-2bcc52329000",
   "metadata": {},
   "source": [
    "## Operador Probabilistico\n",
    "\n",
    "<div class=\"alert alert-block alert-info\"> <b>Definición:</b> Un  <b>operador probabilistico</b> es una matriz cuyas entradas representan la transición de probabilidades entre dos estados y que satisfacen las siguientes condiciones:\n",
    "\n",
    "<ol>\n",
    "    <li> Cada componente es no negativa </li>\n",
    "    <li> La suma de las componentes de cada columna debe ser igual a $1$ </li>\n",
    "</ol> \n",
    "    \n",
    "También se le llama <b>matriz estocástica</b>.\n",
    "    \n",
    "</div>"
   ]
  },
  {
   "cell_type": "markdown",
   "id": "f3eb2de6-1c6d-485d-ad8d-c5f972828565",
   "metadata": {},
   "source": [
    "## Evolución Probabilistica\n",
    "\n",
    "<div class=\"alert alert-block alert-info\"> <b>Definición:</b> Sea $v$ un estado probabilistico y $A$ un operador probabilistico, al aplicar el operador $A$ al vector $v$ se obtiene un nuevo vector $v`$ \n",
    "    \n",
    "$$ v' = A \\cdot v $$\n",
    "    \n",
    "A $v'$ se le llama **evolución probabilistica**.\n",
    "    \n",
    "</div>\n",
    "\n"
   ]
  },
  {
   "cell_type": "markdown",
   "id": "8612a609-b842-4de6-9c88-fbe2f88b9ab2",
   "metadata": {
    "tags": []
   },
   "source": [
    "# Dos Bits Probabilisticos\n",
    "\n",
    "Supongamos ahora que tenemos dos bits probabilisticos, digamos\n",
    "\n",
    "$ \\myvector{0.2 \\\\ 0.8} \\mbox{ y } \\myvector{0.6 \\\\ 0.4 }. $\n",
    "\n",
    "Si combinamos ambos bits en un solo sistema, ¿cuál será el estado del nuevo sistema?\n",
    "\n",
    "Habrá cuatro diferentes estados en total:\n",
    "\n",
    "<ul>\n",
    "    <li>00: ambos bits estan en el estado 0</li>\n",
    "    <li>01: el primer bit esta en el estado 0 y el segundo bit esta en el estado 1</li>\n",
    "    <li>10: el primer bit esta en el estado 1 y el segundo bit esta en el estado 0</li>\n",
    "    <li>11: ambos bits estan en el estado 1</li>\n",
    "</ul>\n",
    "\n",
    "## Representación Para Los Estados 0 y 1\n",
    "\n",
    "Representamos el estado cero con el vector $ \\myvector{1 \\\\ 0} $ y el estado 1 con el vector $ \\myvector{0 \\\\ 1} $.\n",
    "\n",
    "Usamos $ \\pstate{0} $ para representar el vector $ \\myvector{1 \\\\ 0} $ y $ \\pstate{1} $ para el vector $ \\myvector{0 \\\\ 1} $.\n",
    "\n",
    "Así, la probabilidad del estado $ \\myvector{0.2 \\\\ 0.8} $ es $ 0.2 \\pstate{0} + 0.8 \\pstate{1} $.\n",
    "\n",
    "Y el estado $ \\myvector{0.6 \\\\ 0.4} $ es representado como $ 0.6 \\pstate{0} + 0.4 \\pstate{1} $.\n",
    "\n",
    "## Sistema Compuesto\n",
    "\n",
    "<div class=\"alert alert-block alert-info\"> <b>Definición:</b> Al producto tensorial de dos estados probabilisticos se le llama <b>sistema compuesto</b>.\n",
    "    \n",
    "</div>\n",
    "\n",
    "**EJEMPLO**\n",
    "\n",
    "El sistema compuesto de los estados probabilisticos anteriores será:\n",
    "$$ \\big( 0.2 \\pstate{0} + 0.8 \\pstate{1} \\big) \\otimes  \\big( 0.6 \\pstate{0} + 0.4 \\pstate{1} \\big) $$"
   ]
  },
  {
   "cell_type": "markdown",
   "id": "4f0be7eb-82b1-487c-8beb-56a1e515bcab",
   "metadata": {},
   "source": [
    "# Moneda Cuántica"
   ]
  },
  {
   "cell_type": "code",
   "execution_count": null,
   "id": "eeac531a-9ee0-4b65-a305-ee999359739d",
   "metadata": {},
   "outputs": [],
   "source": []
  }
 ],
 "metadata": {
  "kernelspec": {
   "display_name": "Python 3 (ipykernel)",
   "language": "python",
   "name": "python3"
  },
  "language_info": {
   "codemirror_mode": {
    "name": "ipython",
    "version": 3
   },
   "file_extension": ".py",
   "mimetype": "text/x-python",
   "name": "python",
   "nbconvert_exporter": "python",
   "pygments_lexer": "ipython3",
   "version": "3.10.0"
  }
 },
 "nbformat": 4,
 "nbformat_minor": 5
}
