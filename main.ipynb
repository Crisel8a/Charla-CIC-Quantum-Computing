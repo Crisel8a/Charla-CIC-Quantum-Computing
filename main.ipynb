{
 "cells": [
  {
   "cell_type": "markdown",
   "metadata": {
    "slideshow": {
     "slide_type": "skip"
    }
   },
   "source": [
    "$ \\newcommand{\\bra}[1]{\\langle #1|} $\n",
    "$ \\newcommand{\\ket}[1]{|#1\\rangle} $\n",
    "$ \\newcommand{\\braket}[2]{\\langle #1|#2\\rangle} $\n",
    "$ \\newcommand{\\dot}[2]{ #1 \\cdot #2} $\n",
    "$ \\newcommand{\\biginner}[2]{\\left\\langle #1,#2\\right\\rangle} $\n",
    "$ \\newcommand{\\mymatrix}[2]{\\left( \\begin{array}{#1} #2\\end{array} \\right)} $\n",
    "$ \\newcommand{\\myvector}[1]{\\mymatrix{c}{#1}} $\n",
    "$ \\newcommand{\\myrvector}[1]{\\mymatrix{r}{#1}} $\n",
    "$ \\newcommand{\\mypar}[1]{\\left( #1 \\right)} $\n",
    "$ \\newcommand{\\mybigpar}[1]{ \\Big( #1 \\Big)} $\n",
    "$ \\newcommand{\\sqrttwo}{\\frac{1}{\\sqrt{2}}} $\n",
    "$ \\newcommand{\\dsqrttwo}{\\dfrac{1}{\\sqrt{2}}} $\n",
    "$ \\newcommand{\\onehalf}{\\frac{1}{2}} $\n",
    "$ \\newcommand{\\donehalf}{\\dfrac{1}{2}} $\n",
    "$ \\newcommand{\\hadamard}{ \\mymatrix{rr}{ \\sqrttwo & \\sqrttwo \\\\ \\sqrttwo & -\\sqrttwo }} $\n",
    "$ \\newcommand{\\vzero}{\\myvector{1\\\\0}} $\n",
    "$ \\newcommand{\\vone}{\\myvector{0\\\\1}} $\n",
    "$ \\newcommand{\\stateplus}{\\myvector{ \\sqrttwo \\\\  \\sqrttwo } } $\n",
    "$ \\newcommand{\\stateminus}{ \\myrvector{ \\sqrttwo \\\\ -\\sqrttwo } } $\n",
    "$ \\newcommand{\\myarray}[2]{ \\begin{array}{#1}#2\\end{array}} $\n",
    "$ \\newcommand{\\X}{ \\mymatrix{cc}{0 & 1 \\\\ 1 & 0}  } $\n",
    "$ \\newcommand{\\I}{ \\mymatrix{rr}{1 & 0 \\\\ 0 & 1}  } $\n",
    "$ \\newcommand{\\Z}{ \\mymatrix{rr}{1 & 0 \\\\ 0 & -1}  } $\n",
    "$ \\newcommand{\\Htwo}{ \\mymatrix{rrrr}{ \\frac{1}{2} & \\frac{1}{2} & \\frac{1}{2} & \\frac{1}{2} \\\\ \\frac{1}{2} & -\\frac{1}{2} & \\frac{1}{2} & -\\frac{1}{2} \\\\ \\frac{1}{2} & \\frac{1}{2} & -\\frac{1}{2} & -\\frac{1}{2} \\\\ \\frac{1}{2} & -\\frac{1}{2} & -\\frac{1}{2} & \\frac{1}{2} } } $\n",
    "$ \\newcommand{\\CNOT}{ \\mymatrix{cccc}{1 & 0 & 0 & 0 \\\\ 0 & 1 & 0 & 0 \\\\ 0 & 0 & 0 & 1 \\\\ 0 & 0 & 1 & 0} } $\n",
    "$ \\newcommand{\\norm}[1]{ \\left\\lVert #1 \\right\\rVert } $\n",
    "$ \\newcommand{\\pstate}[1]{ \\lceil \\mspace{-1mu} #1 \\mspace{-1.5mu} \\rfloor } $\n",
    "$ \\newcommand{\\greenbit}[1] {\\mathbf{{\\color{green}#1}}} $\n",
    "$ \\newcommand{\\bluebit}[1] {\\mathbf{{\\color{blue}#1}}} $\n",
    "$ \\newcommand{\\redbit}[1] {\\mathbf{{\\color{red}#1}}} $\n",
    "$ \\newcommand{\\brownbit}[1] {\\mathbf{{\\color{brown}#1}}} $\n",
    "$ \\newcommand{\\blackbit}[1] {\\mathbf{{\\color{black}#1}}} $"
   ]
  },
  {
   "cell_type": "markdown",
   "metadata": {
    "jp-MarkdownHeadingCollapsed": true,
    "slideshow": {
     "slide_type": "slide"
    },
    "tags": [],
    "toc-hr-collapsed": true
   },
   "source": [
    "<img src=\"static/cover.jpg\" style=\"width:100%;\">\n",
    "<div style=\" text-align:center;font-family:Georgia;\">\n",
    "    <h1 align=\"left\" style=\"color: #38526E;text-align:center; font-weight: 600; \"> FUNDAMENTOS MATEMÁTICOS PARA LA COMPUTACIÓN CUÁNTICA</h1>\n",
    "    <h4 style=\"color: #526760;\"><b> Escalante, Crisel </b>@ESFM &emsp; y &emsp; <b>Hernández, Julio </b>@ESFM </h4>\n",
    "    <h6 style=\"color: #526760;\">ecrisel@esfmx.com &emsp;  &emsp;&emsp; jhernandez@esfmx.com</h6>\n",
    "    <hr>\n",
    "</div>"
   ]
  },
  {
   "cell_type": "markdown",
   "metadata": {
    "slideshow": {
     "slide_type": "slide"
    },
    "tags": []
   },
   "source": [
    "<h1 style=\" font-family:Georgia;font-weight: 600; color:#38526E;\">Información Clásica Determinista</h1>"
   ]
  },
  {
   "cell_type": "markdown",
   "metadata": {
    "slideshow": {
     "slide_type": "subslide"
    },
    "tags": []
   },
   "source": [
    "<h2 style=\" font-family:Georgia;font-weight: 500; color:#526760;\"> Dispositivo Físico</h2>\n",
    "\n",
    "<div class=\"alert alert-block alert-info\"> <b>Definición:</b> Sea $X$ un conjunto, decimos que $X$ es un <b>dispositivo físico</b> si $X$ es no vacío y finito. A los elemenos de $X$ les llamaremos <b>estados</b>. </div>\n",
    "\n",
    "Comunmente, a los dispositivos físicos se les denota con la letra griega $\\Sigma$.\n",
    "\n",
    "<div class=\"alert alert-block alert-success\"> <b>Nota:</b> Un dispositivo físico no puede ser elemento de otro dispositivo físico.</div>\n",
    "\n",
    "**Ejemplos** \n",
    "\n",
    "- $\\Sigma = \\{0,1\\}$\n",
    "- $X = \\{sol,águila\\}$\n",
    "- $A = \\{<,=, >\\}$\n",
    "- $DADO = \\{1, 2, 3, 4, 5, 6\\}$\n",
    "\n",
    "<hr>\n"
   ]
  },
  {
   "cell_type": "markdown",
   "metadata": {
    "slideshow": {
     "slide_type": "subslide"
    }
   },
   "source": [
    "\n",
    "<h2 style=\" font-family:Georgia;font-weight: 500; color:#526760;\"> Cambios de Estado en el Sistema</h2>\n",
    "\n",
    "Nos preguntamos ahora si es posible cambiar los estados de un dispositivo físico. Esto lo haremos con **funciones de cambio de estado**. \n",
    "\n",
    "<div class=\"alert alert-block alert-info\"> <b>Definición:</b> Sea $f$ una función, entonces $f$ es una <b>función de cambio cambio de estado</b> si $f$ esta definida de un dispositivo $\\Sigma$ en sí mismo, $f: \\Sigma \\to \\Sigma$. </div>\n",
    "\n",
    "<div class=\"alert alert-block alert-success\"> <b>Nota:</b> Para un dispositivo físico con $n$ elementos, se pueden definir $2^n$ de estas funciones.</div>\n",
    "\n",
    "Nos concentraremos en los dispositivos físicos con dos estados (binarios).\n",
    "\n",
    "**Ejemplo**\n",
    "\n",
    "Para el dispositivo físico $\\Sigma = \\{0,1\\}$, existen $2^2 = 4$ funciones de estado, es decir\n",
    "$$f_i : \\{0,1\\} \\to \\{0,1\\}, \\forall i \\in \\{0,1,2,3\\}$$\n",
    "\n",
    "| **$X$**             | $f_0$    | $f_1$| $f_2$ | $f_3$ |\n",
    "|-------------------|-------------|---------------|--------------|--------------|\n",
    "| **0**   | 0    | 1             | 0        | 1\n",
    "| **1**         | 1       | 0             | 0  | 1 \n",
    "\n",
    "A estas funciones les daremos nombres:\n",
    "\n",
    "<ol>\n",
    "    <li> Identidad: $ f_0 := I(0) = 0 $ y $ I(1) = 1 $ </li>\n",
    "    <li> Negación: $ f_1 := NOT(0) = 1 $ y $ NOT(1) = 0 $ </li>\n",
    "    <li> Constante (Cero): $ f_2 := ZERO(0) = 0 $ y $ ZERO(1) = 0 $ </li>\n",
    "    <li> Constante (Uno): $ f_3 := ONE(0) = 1 $ y $ ONE(1) = 1 $ </li>\n",
    "</ol>\n",
    "<hr>"
   ]
  },
  {
   "cell_type": "markdown",
   "metadata": {
    "slideshow": {
     "slide_type": "subslide"
    }
   },
   "source": [
    "<h2 style=\" font-family:Georgia;font-weight: 500; color:#526760;\"> Representación en Tablas</h2>\n",
    "\n",
    "\n",
    "En la representación que usaremos, el estado inicial está arriba y el estado final está a la izquierda:\n",
    "\n",
    "$\n",
    "    \\begin{array}{c|c}\n",
    "        & estados~iniciales \\\\ \\hline\n",
    "        estados~finales&\\hookleftarrow\n",
    "    \\end{array}\n",
    "$\n",
    "\n",
    "Así, podemos representar las funciones de cambio de estado definidas anteriormente con tablas.\n",
    "\n",
    "$\n",
    "I = \\begin{array}{lc|cc} & & estado & incial \\\\ & \\hookleftarrow & \\mathbf{0} & \\mathbf{1} \\\\ \\hline estado & \\mathbf{0} & 1 & 0 \\\\  \n",
    "    final & \\mathbf{1} & 0 & 1  \\end{array}\n",
    "~~~\n",
    "ONE = \\begin{array}{lc|cc} & & estado & incial \\\\ & \\hookleftarrow & \\mathbf{0} & \\mathbf{1} \\\\ \\hline estado & \\mathbf{0} & 0 & 0 \\\\  \n",
    "    final & \\mathbf{1} & 1 & 1  \\end{array}\n",
    "~~~\n",
    "$\n",
    "\n",
    "$\n",
    "NOT = \\begin{array}{lc|cc} & & estado & incial \\\\ & \\hookleftarrow & \\mathbf{0} & \\mathbf{1} \\\\ \\hline estado & \\mathbf{0} & 0 & 1 \\\\  \n",
    "    final & \\mathbf{1} & 1 & 0  \\end{array}\n",
    "~~~\n",
    "ZERO = \\begin{array}{lc|cc} & & estado & incial \\\\ & \\hookleftarrow & \\mathbf{0} & \\mathbf{1} \\\\ \\hline estado & \\mathbf{0} & 1 & 1 \\\\  \n",
    "    final & \\mathbf{1} & 0 & 0  \\end{array}\n",
    "~~~\n",
    "$\n",
    "<hr>"
   ]
  },
  {
   "cell_type": "markdown",
   "metadata": {
    "slideshow": {
     "slide_type": "subslide"
    }
   },
   "source": [
    "<h2 style=\" font-family:Georgia;font-weight: 500; color:#526760;\"> Múltiples Dispositivos Físicos</h2>\n",
    "\n",
    "\n",
    "Nos planteamos la siguiente pregunta: ¿Podemos juntar varios dispositivos físicos? \n",
    "\n",
    "Para $\\Sigma = \\{0,1\\}$, tendremos $$\\Sigma^2 = \\{00,01, 10, 11\\}$$\n",
    "\n",
    "$$\\Sigma^3 = \\{000,001, 010,011,100, 101, 110, 111\\}$$\n",
    "\n",
    "Así, en general tendremos que si $\\Sigma$ tiene $n$ estados, entonces $\\Sigma^n$ tendrá $2^n$ elementos.\n",
    "\n",
    "<div class=\"alert alert-block alert-success\"> <b>Nota:</b> Dados $m$ dispositivos físicos $\\Sigma$ de 2 elmentos cada uno, el nuevo dispositivo físico múltiple $\\Sigma'$ tendrá $2^m$ elementos. Por lo tanto, tendremos $2^{2^m}$ funciones de cambio de estado.</div>\n",
    "\n",
    "<hr>\n"
   ]
  },
  {
   "cell_type": "markdown",
   "metadata": {
    "slideshow": {
     "slide_type": "slide"
    },
    "tags": []
   },
   "source": [
    "<h1 style=\" font-family:Georgia;font-weight: 600; color:#38526E;\">Probabilidad</h1>\n",
    "Hasta el momento sabemos el estado exacto de un sistema, pero qué sucede cuando no. Nos apoyamos de la probabilidad para modelar los posibles estados en que se encuentra un sistema. \n"
   ]
  },
  {
   "cell_type": "markdown",
   "metadata": {
    "slideshow": {
     "slide_type": "subslide"
    }
   },
   "source": [
    "<h2 style=\" font-family:Georgia;font-weight: 500; color:#526760;\"> Probabilidad de estados</h2>\n",
    "\n",
    "\n",
    "Para es dispositivo físico $\\Sigma = \\{0,1\\}$, si el estado $\\sigma_1 = 0$ tiene un probabilidad $P$ entonces el estado $\\sigma_2 = 1$ tendrá una probabilidad de $1-P$.\n",
    "\n",
    "<ul>\n",
    "    <li> $ Probabilidad(\\sigma_1) = P $ </li>\n",
    "    <li> $ Probabilidad(\\sigma_2) = 1-P $ </li>\n",
    "    <li> $ 1 = Probabilidad(\\sigma_1) + Probabilidad(\\sigma_2) $ </li>\n",
    "</ul>\n",
    "\n",
    "\n",
    "\n",
    "Para los dispositivos físicos binarios que utilizaremos, la probabilidad la representamos con un vector columna de dos entradas.\n",
    "\n",
    "$$ \\hat v = \\begin{pmatrix} v_{\\sigma_1}  \\\\ v_{\\sigma_2}  \\end{pmatrix} = \\begin{pmatrix} P  \\\\ 1-P  \\end{pmatrix} $$\n",
    "\n",
    "<div class=\"alert alert-block alert-success\"> <b>Nota:</b> Cuando vemos el dispositivo físico $\\Sigma$, no veremos sus probabilidades, es decir, no veremos $P$ ni $1-P$, en su lugar veremos el estado correspondiente a esa probabilidad.</div>\n",
    "\n",
    "Representar la probabilidad como vector nos ayuda por ejemplo para operar una transformación con nuestro vector de probabilidad, veamos por ejemplo qué ocurre al operar $\\hat v \\$ con la siguiente matriz:\n",
    "\n",
    "$$ \\begin{pmatrix} 0 & 1 \\\\ 1 & 0 \\end{pmatrix} \\cdot \\hat v = \\begin{pmatrix} 0 & 1 \\\\ 1 & 0 \\end{pmatrix} \\cdot \\begin{pmatrix} v_{\\sigma_1}  \\\\ v_{\\sigma_2}  \\end{pmatrix} = \\begin{pmatrix} 0 & 1 \\\\ 1 & 0 \\end{pmatrix} \\cdot \\begin{pmatrix} P  \\\\ 1-P  \\end{pmatrix} = \\begin{pmatrix} 1-P  \\\\ P  \\end{pmatrix}$$\n",
    "\n",
    "**¡Las probabilidades se invierten!**\n",
    "<hr>"
   ]
  },
  {
   "cell_type": "markdown",
   "metadata": {
    "slideshow": {
     "slide_type": "slide"
    },
    "tags": []
   },
   "source": [
    "<h1 style=\" font-family:Georgia;font-weight: 600; color:#38526E;\">Moneda Clásica</h1>"
   ]
  },
  {
   "cell_type": "markdown",
   "metadata": {
    "slideshow": {
     "slide_type": "subslide"
    }
   },
   "source": [
    "<h2 style=\" font-family:Georgia;font-weight: 500; color:#526760;\">Modelación de una Moneda Clásica Justa</h2>\n",
    "\n",
    "Una moneda justa tiene la misma probabilidad en ambos estados y puede ser representada como un dispositivo físico binario\n",
    "\n",
    "$$Moneda = \\{cara, cruz\\}$$\n",
    "\n",
    "Podemos representar estos estados con un sólo bit clásico\n",
    "\n",
    "- 0 representa cara\n",
    "- 1 representa cruz\n",
    "\n",
    "Sabemos que si nuestra moneda es justa, la probabilidad de que salga cara es igual a la probabilidad de que salga cruz y tiene valor de $\\frac{1}{2}$. Podemos representarlo como \n",
    "\n",
    "<ul>\n",
    "    <li> $ Probabilidad(Cara) = \\frac{1}{2} $ </li>\n",
    "    <li> $ Probabilidad(Cruz) = \\frac{1}{2} $ </li>\n",
    "    <li> $ 1 = Probabilidad(Cara) + Probabilidad(Cruz) $ </li>\n",
    "</ul>\n",
    "\n",
    "Le asociamos el vector estocástico $\\hat v$\n",
    "\n",
    "$$ \\hat v = \\begin{pmatrix} \\frac{1}{2}  \\\\ \\frac{1}{2}  \\end{pmatrix} $$\n",
    "\n",
    "y su representación en tabla\n",
    "\n",
    "\n",
    "$$\\begin{array}{lc|cc} & & estado & incial \\\\ & \\hookleftarrow & \\mathbf{cara} & \\mathbf{cruz} \\\\ \\hline estado & \\mathbf{cara} & \\frac{1}{2} & \\frac{1}{2} \\\\  \n",
    "    final & \\mathbf{cruz} & \\frac{1}{2} & \\frac{1}{2}  \\end{array}$$\n",
    "    \n",
    "\n",
    "Ahora, hagamos unas pocas operaciones para ver el comportamiento de los estados. \n",
    "\n",
    "Suponemos que la moneda se encuentra en el estado inicial $\\begin{pmatrix} 1  \\\\ 0  \\end{pmatrix}$ (cara). Girar la moneda sin ver el resultado implica aplicarle la transformación $\\begin{pmatrix} \\frac{1}{2} & \\frac{1}{2} \\\\ \\frac{1}{2} & \\frac{1}{2} \\end{pmatrix} $:\n",
    "\n",
    "$$  \\begin{pmatrix} \\frac{1}{2} & \\frac{1}{2} \\\\ \\frac{1}{2} & \\frac{1}{2} \\end{pmatrix} \\cdot \\begin{pmatrix} 1  \\\\ 0  \\end{pmatrix} = \\begin{pmatrix} \\frac{1}{2}  \\\\ \\frac{1}{2}  \\end{pmatrix}$$\n",
    "\n",
    "<hr>\n",
    "\n"
   ]
  },
  {
   "cell_type": "markdown",
   "metadata": {
    "slideshow": {
     "slide_type": "subslide"
    }
   },
   "source": [
    "<h2 style=\" font-family:Georgia;font-weight: 500; color:#526760;\">Simulación de una Moneda Clásica Justa </h2>"
   ]
  },
  {
   "cell_type": "markdown",
   "metadata": {
    "slideshow": {
     "slide_type": "subslide"
    }
   },
   "source": [
    "Lanzar la moneda una vez"
   ]
  },
  {
   "cell_type": "code",
   "execution_count": 14,
   "metadata": {
    "slideshow": {
     "slide_type": "subslide"
    }
   },
   "outputs": [],
   "source": [
    "from random import randint"
   ]
  },
  {
   "cell_type": "code",
   "execution_count": 16,
   "metadata": {
    "slideshow": {
     "slide_type": "fragment"
    }
   },
   "outputs": [
    {
     "data": {
      "text/plain": [
       "0"
      ]
     },
     "execution_count": 16,
     "metadata": {},
     "output_type": "execute_result"
    }
   ],
   "source": [
    "lanzamiento = randint(0,1)\n",
    "lanzamiento"
   ]
  },
  {
   "cell_type": "markdown",
   "metadata": {
    "slideshow": {
     "slide_type": "fragment"
    }
   },
   "source": [
    "Lanzar una moneda $N$ veces"
   ]
  },
  {
   "cell_type": "code",
   "execution_count": 17,
   "metadata": {
    "slideshow": {
     "slide_type": "fragment"
    }
   },
   "outputs": [],
   "source": [
    "N = 100\n",
    "lanzamientos = [randint(0,1) for i  in range(N)] "
   ]
  },
  {
   "cell_type": "markdown",
   "metadata": {
    "slideshow": {
     "slide_type": "fragment"
    }
   },
   "source": [
    "Verificando la probabilidad de $\\frac{1}{2}$"
   ]
  },
  {
   "cell_type": "code",
   "execution_count": 21,
   "metadata": {
    "slideshow": {
     "slide_type": "fragment"
    }
   },
   "outputs": [
    {
     "data": {
      "text/plain": [
       "0.5"
      ]
     },
     "execution_count": 21,
     "metadata": {},
     "output_type": "execute_result"
    }
   ],
   "source": [
    "frecuencia_relativa = sum(lanzamientos)/N\n",
    "frecuencia_relativa"
   ]
  },
  {
   "cell_type": "markdown",
   "metadata": {
    "slideshow": {
     "slide_type": "subslide"
    }
   },
   "source": [
    "<div class=\"alert alert-block alert-success\"> <b>Nota:</b> Observemos que el resultado del lanzamiento anterior no afecta a la probabilidad del nuevo lanzamiento. </div>\n",
    "<div class=\"alert alert-block alert-info\"> <b>Definición:</b> Sean $A$ y $B$ eventos, cuya probabilidad no es nula. Decimos que $A$ y $B$ son <b> estocásticamente indendientes</b> si:\n",
    "<ul>\n",
    "    <li> $P(A|B) = P(A)$</li>\n",
    "    <li> $P(B|A) = P(B)$</li>\n",
    "</ul>\n",
    "Equivalentemente\n",
    "    <li> $P(A\\cap B) = P(A)\\cdot P(B)$</li>\n",
    "    \n",
    "    \n",
    "</div>\n",
    "\n",
    "<hr>"
   ]
  },
  {
   "cell_type": "markdown",
   "metadata": {
    "slideshow": {
     "slide_type": "subslide"
    }
   },
   "source": [
    "<h2 style=\" font-family:Georgia;font-weight: 500; color:#526760;\">Modelación de una Moneda Clásica Injusta</h2>\n",
    "\n",
    "Nuestra moneda puede tener un sesgo, esto es cuando un estado tiene una probabilidad mayor al otro, por ejemplo\n",
    "\n",
    "$\n",
    "MonedaInjusta = \\begin{array}{c|cc} \\hookleftarrow & \\mathbf{Cara} & \\mathbf{Cruz} \\\\ \\hline \\mathbf{Cara} & 0.6 & 0.6 \\\\  \\mathbf{Cruz} & 0.4 & 0.4  \\end{array}\n",
    "$"
   ]
  },
  {
   "cell_type": "code",
   "execution_count": 19,
   "metadata": {
    "slideshow": {
     "slide_type": "fragment"
    }
   },
   "outputs": [],
   "source": [
    "from random import choice\n",
    "\n",
    "espacio = [0,0,0,0,0,0,1,1,1,1]"
   ]
  },
  {
   "cell_type": "code",
   "execution_count": 20,
   "metadata": {
    "slideshow": {
     "slide_type": "fragment"
    }
   },
   "outputs": [
    {
     "data": {
      "text/plain": [
       "0"
      ]
     },
     "execution_count": 20,
     "metadata": {},
     "output_type": "execute_result"
    }
   ],
   "source": [
    "lanzamiento = choice(espacio)\n",
    "lanzamiento"
   ]
  },
  {
   "cell_type": "code",
   "execution_count": 25,
   "metadata": {
    "slideshow": {
     "slide_type": "fragment"
    }
   },
   "outputs": [
    {
     "data": {
      "text/plain": [
       "0.412"
      ]
     },
     "execution_count": 25,
     "metadata": {},
     "output_type": "execute_result"
    }
   ],
   "source": [
    "N = 1000\n",
    "\n",
    "lanzamientos = [choice(espacio) for i in range(N)]\n",
    "\n",
    "frecuencia_relativa = sum(lanzamientos)/N\n",
    "frecuencia_relativa"
   ]
  },
  {
   "cell_type": "markdown",
   "metadata": {
    "slideshow": {
     "slide_type": "skip"
    }
   },
   "source": [
    "<hr>"
   ]
  },
  {
   "cell_type": "markdown",
   "metadata": {
    "slideshow": {
     "slide_type": "subslide"
    },
    "tags": []
   },
   "source": [
    "\n",
    "<h2 style=\" font-family:Georgia;font-weight: 500; color:#526760;\">El juego</h2>\n",
    "\n",
    "\n",
    "Tenemos dos monedas, un centavo y un euro. \n",
    "\n",
    "Ambas monedas son injustas y la probabilidad de que salga cara o cruz en ambas son las siguientes:\n",
    "\n",
    "<ul>\n",
    "    <li> euro: cara con probabilidad $ 0.6 $ y cruz con probabilidad $ 0.4 $. </li>\n",
    "    <li> centavo: cara con probabilidad $ 0.3 $ y cruz con probabilidad $ 0.7 $. </li>\n",
    "</ul>\n",
    "\n",
    "Se lanzan las monedas bajo el siguiente <b>algoritmo</b>: \n",
    "<ol> \n",
    "    <li> Lanza primero el euro </li>\n",
    "    <li> Cuando salga cara, lanza el euro de nuevo </li>\n",
    "    <li> Cuando salga cruz, lanza el centavo </li>\n",
    "</ol>\n",
    "\n",
    "Obtenemos la siguiente representación\n",
    "\n",
    "$\n",
    "El Juego = \\begin{array}{c|cc} \\hookleftarrow & \\mathbf{Cara} & \\mathbf{Cruz} \\\\ \\hline \\mathbf{Cara} & 0.6 & 0.3\\\\  \\mathbf{Cruz} & 0.4 & 0.7  \\end{array} = \\begin{array}{c|cc} \\hookleftarrow & \\mathbf{0} & \\mathbf{1} \\\\ \\hline \\mathbf{0} & 0.6 & 0.3 \\\\  \\mathbf{1} & 0.4 & 0.7  \\end{array}\n",
    "$\n",
    "\n",
    "<div class=\"alert alert-block alert-success\"> <b>Nota:</b> Observemos que el resultado del lanzamiento anterior ahora sí afecta a la probabilidad del nuevo lanzamiento. Tenemos que arreglar entonces una condición inicial. </div>\n",
    "\n",
    "¡Juguemos N veces!"
   ]
  },
  {
   "cell_type": "code",
   "execution_count": 39,
   "metadata": {
    "slideshow": {
     "slide_type": "subslide"
    }
   },
   "outputs": [
    {
     "data": {
      "text/plain": [
       "(0.568, 0.43200000000000005)"
      ]
     },
     "execution_count": 39,
     "metadata": {},
     "output_type": "execute_result"
    }
   ],
   "source": [
    "N = 1000\n",
    "n_lanzamientos = 3\n",
    "\n",
    "espacio_euro = [0,0,0,0,0,0,1,1,1,1] \n",
    "espacio_centavo = [0,0,0,1,1,1,1,1,1,1]\n",
    "\n",
    "estado_inicial = 0  # cara\n",
    "n_caras = 0\n",
    "    \n",
    "for _ in range(N):\n",
    "    resultado_anterior = estado_inicial\n",
    "\n",
    "    for i in range(n_lanzamientos):\n",
    "        if resultado_anterior == 0:\n",
    "            resultado_anterior = choice(espacio_euro)\n",
    "        else:\n",
    "            resultado_anterior = choice(espacio_centavo)\n",
    "    n_caras += resultado_anterior  # almacenamos el resultado del último lanzamiento\n",
    "\n",
    "frecuenciar_caras = n_caras/N\n",
    "frecuenciar_cruces = 1 - frecuenciar_caras\n",
    "\n",
    "frecuenciar_caras, frecuenciar_cruces"
   ]
  },
  {
   "cell_type": "markdown",
   "metadata": {
    "slideshow": {
     "slide_type": "subslide"
    }
   },
   "source": [
    "**¿Cuál es la probabilidad de obtener cara después de 3 lanzamientos?**"
   ]
  },
  {
   "cell_type": "code",
   "execution_count": null,
   "metadata": {
    "slideshow": {
     "slide_type": "skip"
    }
   },
   "outputs": [],
   "source": []
  },
  {
   "cell_type": "markdown",
   "metadata": {
    "slideshow": {
     "slide_type": "subslide"
    }
   },
   "source": [
    "Si nuestra moneda inicial tiene una razón de $ \\dfrac{Pr(Cara)}{Pr(Cruz)} = \\dfrac{3}{1}$, es decir, cuando la probabilidad de que salga cara es tres veces mayor a la probabilidad de que salga cruz. Como la probabilidad total es $1$, al dividirla en cuatro (tres partes para las caras y una para las cruces), la infromación del resultado será $ 0.75 $ de probabilidad para las caras y $ 0.25 $ de probabilidad para las cruces.\n",
    "\n",
    "Nuestro nuevo vector probabilidad será:\n",
    "\n",
    "$$\\hat v = \\begin{pmatrix} 0.75  \\\\ 0.25  \\end{pmatrix}$$\n",
    "\n",
    "<hr>"
   ]
  },
  {
   "cell_type": "markdown",
   "metadata": {
    "slideshow": {
     "slide_type": "slide"
    },
    "tags": []
   },
   "source": [
    "\n",
    "<h1 style=\" font-family:Georgia;font-weight: 600; color:#38526E;\">Mas Proba</h1>"
   ]
  },
  {
   "cell_type": "markdown",
   "metadata": {
    "slideshow": {
     "slide_type": "subslide"
    }
   },
   "source": [
    "<h2 style=\" font-family:Georgia;font-weight: 500; color:#526760;\">Estado Probabilistico</h2>\n",
    "\n",
    "<div class=\"alert alert-block alert-info\"> <b>Definición:</b> Un  <b>estado probabilistico</b> es una combinación lineal de vectores en la base canónica cuyas componentes satisfacen las siguientes condiciones:\n",
    "\n",
    "<ol>\n",
    "    <li> Cada componente es no negativa </li>\n",
    "    <li> La suma de las componentes debe ser igual a $1$ </li>\n",
    "</ol> \n",
    "    \n",
    "También se le llama <b>vector estocástico</b>.\n",
    "    \n",
    "</div>\n",
    "\n",
    "Juguemos de nuevo, pero ahora con más mates puras y duras. \n",
    "\n",
    "<b>Después del primer lanzamiento:</b>\n",
    "\n",
    "$  \\mypar{ \n",
    "        ElJuego = \\begin{array}{c|cc} \\hookleftarrow & \\mathbf{Cara} & \\mathbf{Cruz} \\\\ \\hline \\mathbf{Cara} & 0.6 & 0.3\\\\  \\mathbf{Cruz} & 0.4 & 0.7  \\end{array}\n",
    "        }\n",
    "    \\mypar{\n",
    "        EstadoInicial=\\myvector{1 \\\\ 0}\n",
    "    } $\n",
    "    \n",
    "Cada entrada de nuestro nuevo vector es calculada con la suma de cada fila y el estado inicial:\n",
    "\n",
    "$\n",
    "\\myvector{  0.6 \\cdot 1 \\\\ + \\\\ 0.3 \\cdot 0 \\\\ \\hline 0.4 \\cdot 1 \\\\ + \\\\ 0.7 \\cdot 0  }\n",
    "=\n",
    "\\myvector{ 0.6 + 0 \\\\ 0.4 + 0 }\n",
    "=\n",
    "\\myvector{0.6 \\\\ 0.4}.\n",
    "$\n",
    "\n",
    "<b>Después del segundo lanzamiento:</b>\n",
    "\n",
    "$  \\mypar{ \n",
    "        ElJuego = \\begin{array}{c|cc} \\hookleftarrow & \\mathbf{Cara} & \\mathbf{Cruz} \\\\ \\hline \\mathbf{Cara} & 0.6 & 0.3\\\\  \\mathbf{Cruz} & 0.4 & 0.7  \\end{array}\n",
    "        }\n",
    "    \\mypar{\n",
    "        NuevoEstado=\\myvector{0.6 \\\\ 0.4}\n",
    "    } $\n",
    "    \n",
    "Obtenemos:\n",
    "\n",
    "$\n",
    "\\myvector{  0.6 \\cdot 0.6 \\\\ + \\\\ 0.3 \\cdot 0.4 \\\\ \\hline 0.4 \\cdot 0.6 \\\\ + \\\\ 0.7 \\cdot 0.4  }\n",
    "=\n",
    "\\myvector{ 0.36 + 0.12 \\\\ 0.24 + 0.28 }\n",
    "=\n",
    "\\myvector{0.48 \\\\ 0.52}.\n",
    "$\n",
    "\n",
    "Este último vector es muy parecido al resultado de la simulación anterior. \n",
    "\n",
    "<b>Algoritmo de lanzamiento</b>.\n",
    "\n",
    "El algoritmo de lanzamiento determina el siguiente estado:\n",
    "\n",
    "$$\n",
    "    \\myvector{1 \\\\ 0} \\xrightarrow{\\mbox{Algoritmo de Lanzamiento}} \\myvector{0.6 \\\\ 0.4}\n",
    "    \\xrightarrow{\\mbox{Algoritmo de Lanzamiento}}  \\myvector{0.48 \\\\ 0.52}.\n",
    "$$\n",
    "\n",
    "<hr>"
   ]
  },
  {
   "cell_type": "markdown",
   "metadata": {
    "slideshow": {
     "slide_type": "subslide"
    }
   },
   "source": [
    "\n",
    "<h2 style=\" font-family:Georgia;font-weight: 500; color:#526760;\">Operador Probabilístico</h2>\n",
    "\n",
    "<div class=\"alert alert-block alert-info\"> <b>Definición:</b> Un  <b>operador probabilístico</b> es una matriz cuyas entradas representan la transición de probabilidades entre dos estados y que satisfacen las siguientes condiciones:\n",
    "\n",
    "<ol>\n",
    "    <li> Cada componente es no negativa </li>\n",
    "    <li> La suma de las componentes de cada columna debe ser igual a $1$ </li>\n",
    "</ol> \n",
    "    \n",
    "También se le llama <b>matriz estocástica</b>.\n",
    "    \n",
    "</div>"
   ]
  },
  {
   "cell_type": "markdown",
   "metadata": {
    "slideshow": {
     "slide_type": "subslide"
    },
    "tags": []
   },
   "source": [
    "<h2 style=\" font-family:Georgia;font-weight: 500; color:#526760;\">Evolución Probabilística</h2>\n",
    "\n",
    "<div class=\"alert alert-block alert-info\"> <b>Definición:</b> Sea $v$ un estado probabilístico y $A$ un operador probabilístico, al aplicar el operador $A$ al vector $v$ se obtiene un nuevo vector $v`$ \n",
    "    \n",
    "$$ v' = A \\cdot v $$\n",
    "    \n",
    "A $v'$ se le llama <b>evolución probabilística</b>.\n",
    "    \n",
    "</div>\n",
    "\n",
    "<hr>"
   ]
  },
  {
   "cell_type": "markdown",
   "metadata": {
    "slideshow": {
     "slide_type": "slide"
    },
    "tags": []
   },
   "source": [
    "<h1 style=\" font-family:Georgia;font-weight: 600; color:#38526E;\">Dos Bits Probabilísticos</h1>\n",
    "\n",
    "Supongamos ahora que tenemos dos bits probabilísticos, digamos\n",
    "\n",
    "$ \\myvector{0.2 \\\\ 0.8} \\mbox{ y } \\myvector{0.6 \\\\ 0.4 }. $\n",
    "\n",
    "Si combinamos ambos bits en un solo sistema ¿cuál será el estado del nuevo sistema?\n",
    "\n",
    "Habrá cuatro diferentes estados en total:\n",
    "\n",
    "<ul>\n",
    "    <li>00: ambos bits estan en el estado 0</li>\n",
    "    <li>01: el primer bit esta en el estado 0 y el segundo bit esta en el estado 1</li>\n",
    "    <li>10: el primer bit esta en el estado 1 y el segundo bit esta en el estado 0</li>\n",
    "    <li>11: ambos bits estan en el estado 1</li>\n",
    "</ul>\n",
    "\n",
    "**¿Cuál es la probabilidad de cada uno de estos estados?**\n",
    "\n",
    "<hr>"
   ]
  },
  {
   "cell_type": "markdown",
   "metadata": {
    "slideshow": {
     "slide_type": "subslide"
    },
    "tags": []
   },
   "source": [
    "\n",
    "<h2 style=\" font-family:Georgia;font-weight: 500; color:#526760;\">Representación Para Los Estados 0 y 1</h2>\n",
    "Representamos el estado cero con el vector $ \\myvector{1 \\\\ 0} $ y el estado 1 con el vector $ \\myvector{0 \\\\ 1} $.\n",
    "\n",
    "Usamos $ \\pstate{0} $ para representar el vector $ \\myvector{1 \\\\ 0} $ y $ \\pstate{1} $ para el vector $ \\myvector{0 \\\\ 1} $.\n",
    "\n",
    "Así, la probabilidad del estado $ \\myvector{0.2 \\\\ 0.8} $ es $ 0.2 \\pstate{0} + 0.8 \\pstate{1} $.\n",
    "\n",
    "Y el estado $ \\myvector{0.6 \\\\ 0.4} $ es representado como $ 0.6 \\pstate{0} + 0.4 \\pstate{1} $.\n",
    "\n",
    "<hr>\n"
   ]
  },
  {
   "cell_type": "markdown",
   "metadata": {
    "slideshow": {
     "slide_type": "subslide"
    }
   },
   "source": [
    "\n",
    "<h2 style=\" font-family:Georgia;font-weight: 500; color:#526760;\">Sistema Compuesto</h2>\n",
    "<div class=\"alert alert-block alert-info\"> <b>Definición:</b> Al producto tensorial de dos estados probabilísticos se le llama <b>sistema compuesto</b>.\n",
    "    \n",
    "</div>\n",
    "\n",
    "**EJEMPLO**\n",
    "\n",
    "El sistema compuesto de los estados probabilísticos anteriores será:\n",
    "$$ \\big( 0.2 \\pstate{0} + 0.8 \\pstate{1} \\big) \\otimes  \\big( 0.6 \\pstate{0} + 0.4 \\pstate{1} \\big) $$\n",
    "\n",
    "$$ \\myvector{0.2 \\\\ 0.8} \\otimes \\myvector{0.6 \\\\ 0.4 } = \\myvector{ 0.2 \\myvector{0.6 \\\\ 0.4} \\\\ 0.8 \\myvector{0.6 \\\\ 0.4}  } = \\myvector{0.12 \\\\ 0.08 \\\\ 0.48 \\\\ 0.32} $$.\n",
    "\n",
    "El resultado es el nuevo sistema compuesto $ 0.12 \\pstate{00} + 0.08 \\pstate{01} + 0.48 \\pstate{10} + 0.32 \\pstate{11}$ el cual nos muestra el coeficiente de probabilidad para cada uno de los cuatro nuevos estados.\n",
    "\n",
    "<div class=\"alert alert-block alert-success\"> <b>Nota:</b> \n",
    "\n",
    "Dados dos vectores $ u = \\myrvector{u_1\\\\u_2} $ y $ v = \\myrvector{v_1 \\\\ v_2 \\\\ v_3} $.\n",
    "\n",
    "El producto tensorial de $u$ y $ v $ es denotado por $ u \\otimes v $ y está definido como:\n",
    "\n",
    "$$\n",
    "    u \\otimes v =  \\myrvector{u_1\\\\u_2} \\otimes \\myrvector{v_1 \\\\ v_2 \\\\ v_3} =\n",
    "   \\myrvector{ u_1 \\cdot  \\myrvector{v_1 \\\\ v_2 \\\\ v_3} \\\\ u_2 \\cdot  \\myrvector{v_1 \\\\ v_2 \\\\ v_3} } =\n",
    "   \\myrvector{ u_1 \\cdot v_1 \\\\ u_1 \\cdot v_2 \\\\ u_1 \\cdot v_3 \\\\ u_2 \\cdot v_1 \\\\ u_2 \\cdot v_2 \\\\ u_2 \\cdot v_3 }.\n",
    "$$\n",
    "\n",
    "</div>\n",
    "\n",
    "<hr>"
   ]
  },
  {
   "cell_type": "markdown",
   "metadata": {
    "slideshow": {
     "slide_type": "slide"
    },
    "tags": []
   },
   "source": [
    "\n",
    "<h1 style=\" font-family:Georgia;font-weight: 600; color:#38526E;\">Moneda Cuántica</h1>\n",
    "Ahora sí, a lo que vinimos todos. \n"
   ]
  },
  {
   "cell_type": "markdown",
   "metadata": {
    "slideshow": {
     "slide_type": "subslide"
    },
    "tags": []
   },
   "source": [
    "\n",
    "\n",
    "<h2 style=\" font-family:Georgia;font-weight: 500; color:#526760;\">Explicación del Hardware</h2>\n",
    "Mostraremos tres experimentos para explicar un poco sobre cómo se comportan las partículas. El experimento plantea lanzar una moneda cuántica con ayuda de un fotón.\n",
    "\n",
    "<div class=\"alert alert-block alert-info\"> <b>Definición:</b> Un <b>divisor de rayo</b> es un dispositivo óptico que separa el rayo en dos: el rayo transmitivo y el rayo reflejado. Es aleatorio, y se separan en una probabilidad de $s$ y $t$ respectivamente.\n",
    "</div>\n",
    "\n",
    "<div class=\"alert alert-block alert-success\"> <b>Nota:</b> Para un <b>fotón</b>, el divisor de rayo puede tener uno y sólo uno de los siguientes efectos sobre este: \n",
    "    \n",
    " <ul>\n",
    "    <li> Sólo se transmite  </li>\n",
    "    <li> Sólo se refleja  </li>\n",
    "</ul>\n",
    "    \n",
    "\n",
    "\n",
    "</div>\n",
    "\n",
    "<hr>"
   ]
  },
  {
   "attachments": {},
   "cell_type": "markdown",
   "metadata": {
    "slideshow": {
     "slide_type": "subslide"
    }
   },
   "source": [
    "<h2 style=\" font-family:Georgia;font-weight: 500; color:#526760;\">Experimentos</h2>\n",
    "\n",
    "<h3 style=\" font-family:Georgia;font-weight: 500; color:#526760;\">Primer Experimento</h3>\n",
    "Así como en python, podemos simular una moneda con los siguientes materiales\n",
    "\n",
    "<ul>\n",
    "    <li> El fotón es nuestra nueva moneda </li>\n",
    "    <li> Para lanzar la moneda, usamos un divisor de rayo </li>\n",
    "    <li> Nuestros ojos serán los detectores</li>\n",
    "</ul>\n",
    "\n",
    "Se gira una moneda una vez. La probabilidad de que salga cara o cruz es de del 50%. Esto implica $s=t=50\\%$, lo que se conoce como **divisor de rayo balanceado**.\n"
   ]
  },
  {
   "cell_type": "markdown",
   "metadata": {
    "slideshow": {
     "slide_type": "subslide"
    }
   },
   "source": [
    "\n",
    "<h3 style=\" font-family:Georgia;font-weight: 500; color:#526760;\">Segundo Experimento </h3>\n",
    "Extendemos ahora el experimento con dos espejos y un divisor de rayo extra. Se gira una moneda, si cae cara, se vuelve a girar, si cae cruz, se deja así. Tendremos que la probabilidad de que salga cara será 50%+25% y la probabilidad de que salga cruz será 25%.\n",
    "\n"
   ]
  },
  {
   "cell_type": "markdown",
   "metadata": {
    "slideshow": {
     "slide_type": "subslide"
    }
   },
   "source": [
    "\n",
    "<h3 style=\" font-family:Georgia;font-weight: 500; color:#526760;\">Tercer Experimento (analogía con el experimento de la doble rendija)</h3>\n",
    "En este experimento vamos a quitar el detector $A$. Como ahora solo hay dos detectores de nuevo, esperamos tener el resultado de una moneda clásica, como en el experimento 1. Vamos a meterle mates locas a esto para convencernos.\n",
    "\n",
    "1) Iniciamos en el estado $ 0 $. Usando la representación como vector, esto es\n",
    "\n",
    "$$ v_0 = \\myvector{1 \\\\ 0} $$\n",
    "\n",
    "2) Lanzamos una moneda justa. El nuevo estado probabilistico se espera que este en ambos estados ($0$ y $1$) con la misma probabilidad de ($ \\frac{1}{2} = 0.5 $).\n",
    "\n",
    "$$\n",
    "    v_1 = \\myvector{\\frac{1}{2} \\\\ \\frac{1}{2}}\n",
    "$$\n",
    "\n",
    "Este cambio de estado puede representarse con aplicar la transformación: $ M = \\mymatrix{cc}{ \\frac{1}{2} & \\frac{1}{2} \\\\ \\frac{1}{2} & \\frac{1}{2} }    $ . \n",
    "\n",
    "$$\n",
    "    v_1 \n",
    "    = \\mymatrix{cc}{ \\frac{1}{2} & \\frac{1}{2} \\\\ \\frac{1}{2} & \\frac{1}{2} }  \n",
    "    \\myvector{1 \\\\ 0}\n",
    "$$\n",
    "\n",
    "3) Si lanzamos la moneda una segunda vez, obtenemos el siguiente estado probabilistico:\n",
    "\n",
    "$$\n",
    "    v_2 = \\myvector{\\frac{1}{2} \\\\ \\frac{1}{2}} = \n",
    "    \\mymatrix{cc}{ \\frac{1}{2} & \\frac{1}{2} \\\\ \\frac{1}{2} & \\frac{1}{2} }  \n",
    "    \\myvector{\\frac{1}{2} \\\\ \\frac{1}{2}}\n",
    "$$\n",
    "\n",
    "\n",
    "**Resultados del Tercer Experimento**\n",
    "\n",
    "Observamos el fotón sólo en el detector B1. ¿Cómo es esto posible? La mecánica Newtoniana no puede describir este comportamiento, necesitamos algo nuevo. Mecánica cuántica. <3\n",
    "\n",
    "\n",
    "\n",
    "https://lab.quantumflytrap.com/game"
   ]
  },
  {
   "cell_type": "code",
   "execution_count": null,
   "metadata": {},
   "outputs": [],
   "source": []
  },
  {
   "cell_type": "markdown",
   "metadata": {
    "slideshow": {
     "slide_type": "slide"
    },
    "tags": []
   },
   "source": [
    "\n",
    "<h1 style=\" font-family:Georgia;font-weight: 600; color:#38526E;\">Computación Cuántica </h1>"
   ]
  },
  {
   "cell_type": "markdown",
   "metadata": {
    "slideshow": {
     "slide_type": "subslide"
    },
    "tags": []
   },
   "source": [
    "\n",
    "\n",
    "<h2 style=\" font-family:Georgia;font-weight: 500; color:#526760;\">Cuántica</h2>\n",
    "\n",
    "Como sabemos, la luz tiene una naturaleza ondulatoria y corpuscular, esto nos ha llevado a reevaluar el lenguaje cinemático que usaremos para describir la posición y el movimiento de una partícula. \n",
    "\n",
    "<h3 style=\" font-family:Georgia;font-weight: 500; color:#526760;\">Mecánica Clásica Newtoniana</h3>\n",
    "\n",
    "\n",
    "- Una partícula se escribe como un punto, podemos describir su lugar y estado de movimiento en cualquier instante con tres coordenadas espaciales. \n",
    "\n",
    "Cuando bajamos a una escala suficientemente pequeña, hay limitaciones fundamentales de la posición de una partícula que nos da la mecánica clásica. Muchos aspectos del comportamiento de una partícula se establecen sólo en términos de probabilidades. \n",
    "\n",
    "\n",
    "<h3 style=\" font-family:Georgia;font-weight: 500; color:#526760;\">Mecánica Cuántica</h3>\n",
    "\n",
    "Gustav Kirchhoff declaró el \"problema del cuerpo negro\": ¿cómo la intensidad de la radiación electromagnética emitida por un cuerpo negro depende de la frecuencia de la radiación y de la temperatura del cuerpo? \tMax Planck, sugirió que la energía electromagnética podría ser emitida sólo en forma cuantizada en paquetes de energía llamados **cuantos**, esto es, la energía sólo podría ser un múltiplo de una unidad elemental de $ E=hf$, donde $h$ es la **constante de Planck** y $f$ la frecuencia de la radiación. Albert Einstein para explicar el efecto fotoeléctrico, es decir, la emisión de electrones por un material cuando se le ilumina con radiación electromagnética, postuló que la luz está formada por partículas cuánticas individuales (fotones), basándose en la hipótesis cuántica de Planck (1900).\n",
    "\n",
    "<h3 style=\" font-family:Georgia;font-weight: 500; color:#526760;\">El Principio de Incertidumbre</h3>\n",
    "\n",
    "- Si una coordenada $x$ tiene una incertidumbre $\\Delta x$ y la componente correspondiente de la cantidad de movimiento $p$ tiene una incertidumbre $\\Delta_{p_x}$, se tiene la siguiente relación: \n",
    "$$\\Delta_x \\cdot \\Delta_{p_x} \\geq \\hslash $$\n",
    "\n",
    "    A esta relación se le conoce como el **principio de incertidumbre de Heinsenberg para la posición y cantidad de movimiento** propuesto por el físico alemán Werner Heisenberg (1901-1976) donde $\\hslash = \\frac{h}{2 \\pi} = 1.055 * 10 ^{-34} J \\cdot s$ con $h$ la constante de Plank. Establece que *\"No es posible medir simultáneamente la posición ni el momento de una partícula con precisión ilimitada\"*.\n",
    "    \n",
    "¿Cómo podemos saber con seguridad alguno de estos dos parámetros? La respuesta es: llevando el sistema al colapso.\n",
    "\n",
    "<h3 style=\" font-family:Georgia;font-weight: 500; color:#526760;\">Superposición y Colapso</h3>\n",
    "\n",
    "Un sistema cuántico puede estar en más de un estado con probabilidades no cero, entonces decimos que nuestro sistema está en **superposición** de estos dos estados, esta puede ser constructiva o destructiva, esto depende del signo de las entradas de nuestro vector probabilístico. \n",
    "\n",
    "Después de la medición del estado, el sistema **colapsa** al estado observado, entonces el sistema ya no esta en superposición, pues ahora una sola entrada es $1$ y el resto es $0$.\n",
    "\n",
    "Por ejemplo, el siguiente sistema\n",
    "\n",
    "$$\n",
    "    \\myrvector{ -\\frac{\\sqrt{2}}{\\sqrt{3}} \\\\ \\frac{1}{\\sqrt{3}} },\n",
    "$$\n",
    "\n",
    "se encuentra inicialmente en superposición de los estados $\\ket{0} $ y $\\ket{1} $ con probabilidades $ -\\frac{\\sqrt{2}}{\\sqrt{3}} $ y $ \\frac{1}{\\sqrt{3}}  $ respectivamente. Al llevar al colapso a este sistema y observarlo en el estado $\\ket{0}$ entonces el nuevo sistema será $ \\myvector{1 \\\\ 0} $. Análogamente, al observarlo en el estado $\\ket{1}$ el sistema se convierte en $ \\myvector{0 \\\\ 1} $.\n",
    "\n",
    "<hr>"
   ]
  },
  {
   "cell_type": "markdown",
   "metadata": {
    "slideshow": {
     "slide_type": "slide"
    },
    "tags": []
   },
   "source": [
    "\n",
    "<h1 style=\" font-family:Georgia;font-weight: 600; color:#38526E;\">Fundamentos Matemáticos</h1>"
   ]
  },
  {
   "cell_type": "markdown",
   "metadata": {
    "jp-MarkdownHeadingCollapsed": true,
    "slideshow": {
     "slide_type": "subslide"
    },
    "tags": []
   },
   "source": [
    "<h2 style=\" font-family:Georgia;font-weight: 500; color:#526760;\"> Espacio de Hilbert</h2>\n",
    "\n",
    "<div class=\"alert alert-block alert-info\"> <b>Definición:</b> Sea $E$ un espacio vectorial finito dimensional sobre un campo $\\mathbb{K}$. Llamamos <b> producto interno o escalar </b> sobre $E$ a la aplicación $\\langle , \\rangle : E \\times E \\rightarrow \\mathbb{K}$. Se cumple que, para todo $ \\overrightarrow{u},  \\overrightarrow{v},  \\overrightarrow{w} \\in \\mathbb{E}$, $a,b \\in \\mathbb{K}$:\n",
    "    \n",
    "- Definida positiva\n",
    "    - $\\langle \\overrightarrow{u}, \\overrightarrow{u} \\rangle \\geq 0$\n",
    "    - $\\langle \\overrightarrow{u}, \\overrightarrow{u} \\rangle = 0 \\iff \\overrightarrow{u} = \\overrightarrow{0}_E$\n",
    "- Lineal por la derecha\n",
    "    - $\\langle  \\overrightarrow{w}, a\\overrightarrow{u} + b \\overrightarrow{v} \\rangle = a\\langle \\overrightarrow{w} , \\overrightarrow{u} \\rangle +  b\\langle \\overrightarrow{w}, \\overrightarrow{v} \\rangle$\n",
    "- Antilineal por la izquierda\n",
    "    - $\\langle a\\overrightarrow{u} + b \\overrightarrow{v}, \\overrightarrow{w} \\rangle = a^*\\langle \\overrightarrow{u} , \\overrightarrow{w} \\rangle +  b^*\\langle \\overrightarrow{v}, \\overrightarrow{w} \\rangle$\n",
    "- Hermítica\n",
    "    - $\\langle \\overrightarrow{u}, \\overrightarrow{v} \\rangle = \\langle \\overrightarrow{v}, \\overrightarrow{u} \\rangle ^*$\n",
    "</div>\n",
    "\n",
    "<div class=\"alert alert-block alert-success\"> <b>Nota:</b> Todo espacio vectorial $E$ con producto interno puede ser normado definiendo la <b>norma</b> de $\\overrightarrow{v} \\in E$ por el númeor real no negativo\n",
    "$$|| \\overrightarrow{v} || = \\sqrt{\\langle \\overrightarrow{v}, \\overrightarrow{v} \\rangle}$$.\n",
    "</div>\n",
    "\n",
    "<div class=\"alert alert-block alert-info\"> <b>Definición:</b> Sea $\\overrightarrow{v}_n$ una sucesión de vectores en el espacio $E$. Se dice que la sucesión $\\overrightarrow{v}_n$ es una <b>sucesión de Cauchy</b> si $|| \\overrightarrow{v}_n - \\overrightarrow{v}_m || \\to 0$ cuando $n, m \\to \\infty$. \n",
    "</div>\n",
    "\n",
    "<div class=\"alert alert-block alert-info\"> <b>Definición:</b> Se dice que el espacio $E$ es un <b> espacio completo </b> para la norma $|| \\ ||$, si y sólo si toda sucesión de Cauchy converge con esa norma a un punto de $E$\n",
    "</div>\n",
    "\n",
    "<div class=\"alert alert-block alert-info\"> <b>Definición:</b> Un espacio $E$ con producto interno completo en su norma se denomina <b> espacio de Hilbert </b>.\n",
    "</div>\n",
    "\n",
    "EJEMPLOS:\n",
    "\n",
    "- Todo espacio de dimensión finita con el producto interno canónico es un ejemplo de espacio de Hilbert.\n",
    "\n",
    "- $\\mathbb{C}^n$, con la suma $(+)$, el producto $(\\cdot)$ y el producto interno usuales, es un espacio de Hilbert. \n",
    "\n",
    "\n",
    "<hr>"
   ]
  },
  {
   "cell_type": "markdown",
   "metadata": {
    "slideshow": {
     "slide_type": "subslide"
    }
   },
   "source": [
    "<h2 style=\" font-family:Georgia;font-weight: 500; color:#526760;\"> Productos tensoriales</h2>\n",
    "\n",
    "El <b>producto tensorial</b> $(⊗)$, también llamado producto externo, se puede aplicar entre matrices, vectores, espacios vectoriales y muchas otras estructuras. En nuestro caso sólo nos interesan esas tres aplicaciones: entre matrices, entre vectores, el cual se define igual, tomando los vectores como matrices de una sola columna, y entre espacios vectoriales.\n",
    "\n",
    "<div class=\"alert alert-block alert-info\"> <b>Definición:</b> \n",
    "    El <b>producto tensorial de dos vectores</b>, $\\overrightarrow{v}$ y $\\overrightarrow{u}$ se define como\n",
    "    \n",
    "$$\\overrightarrow{v} \\otimes \\overrightarrow{u} = \\myvector{v_0 \\\\ \\vdots \\\\ v_n} \\otimes \\myvector{u_0 \\\\ \\vdots \\\\ u_m} = \\myvector{v_0 u_0 \\\\ \\vdots \\\\ v_0 u_m \\\\ \\vdots \\\\ v_n u_0 \\\\ \\vdots \\\\ v_n u_m}$$\n",
    "\n",
    "</div>\n",
    "\n",
    "<div class=\"alert alert-block alert-success\"> <b>Nota:</b> El producto escalar, o producto interno, entre dos vectores nos da como resultado un elemento del campo $\\mathbb{K}$ (un escalar), es decir, un número. El producto tensorial, o producto externo entre dos vectores nos da como resultado un otro vector de mayor dimensión.\n",
    "</div>\n",
    "\n",
    "Definimos el producto tensorial entre dos vectores, nos interesa también el producto tensorial entre dos espacios vectoriales. Con este fin, damos las siguientes definiciones. \n",
    "\n",
    "<div class=\"alert alert-block alert-info\"> <b>Definición:</b> Sea $E$ un espacio vectorial sobre un campo $\\mathbb{K}$ y $S$ un subconjunto no vacío de $E$. Se dice que un vector $\\overrightarrow{v} \\in E$ es una <b>combinación lineal</b> de elementos de $E$ si existe un número finito de elementos $y_1, ... , y_n$ de $E$ y escalares $a_1 , ... , a_n$ en $\\mathbb{K}$ tales que \n",
    "$$ x = a_1 y_1 + ... + a_n y_n $$\n",
    "</div>\n",
    "\n",
    "<div class=\"alert alert-block alert-info\"> <b>Definición:</b> Dado un conjunto de $n$ vectores linealmente independientes, al conjunto de todas las posibles combinaciones lineales de estos se le llama <b>espacio generado</b>. Este conujnto de vectores se dice que *generan* al espacio vectorial.\n",
    "</div>\n",
    "\n",
    "</div>\n",
    "<div class=\"alert alert-block alert-info\"> <b>Definición:</b> Una <b>base</b> $\\beta$ para un espacio vectorial $E$ es un subconjunto linealmente independiente de $E$ que genera a $E$.\n",
    "</div>\n",
    "\n",
    "\n",
    "El producto tensorial entre dos espacios vectoriales se define como el espacio generado por el\n",
    "producto tensorial de todos los vectores de una base  del primero con los vectores de una\n",
    "base del segundo\n",
    "\n",
    "\n",
    "<div class=\"alert alert-block alert-info\"> <b>Definición:</b> Sean $B_E$ una base del espacio vectorial $E$ y $B_F$ una base del espacio $F$. Entonces el <b>producto tensorial entre espacios vectoriales </b> se define como \n",
    "    \n",
    "$$E \\otimes F = Gen(B_E \\otimes B_F)$$\n",
    "\n",
    "</div>\n",
    "\n",
    "<div class=\"alert alert-block alert-success\"> <b>Nota:</b> Existen vectores de $E \\otimes F$ que no son producto tensorial entre uno de $E$ y uno de $F$. Tomemos $\\overrightarrow{v} = \\myvector{\\alpha \\\\ 0 \\\\ 0 \\\\ \\beta}$ con $\\alpha, \\beta \\ne 0$. Es fácil verificar que $\\overrightarrow{v} \\in \\mathbb{C} ^4$. Sin embargo, no existen $\\overrightarrow{v}_1, \\overrightarrow{v}_2 \\in \\mathbb{C}^2$ tal que $\\overrightarrow{v} = \\overrightarrow{v}_1 \\otimes \\overrightarrow{v}_2$.\n",
    "</div>\n",
    "\n",
    "\n",
    "\n",
    "<hr>"
   ]
  },
  {
   "cell_type": "markdown",
   "metadata": {
    "slideshow": {
     "slide_type": "subslide"
    }
   },
   "source": [
    "\n",
    "<h2 style=\" font-family:Georgia;font-weight: 500; color:#526760;\">Notación bra-ket</h2>\n",
    "Notación introducida por Paul Dirac (1939) para describir estados cuánticos.\n",
    "<br>\n",
    "<br>\n",
    "En lugar de escribir los vectores como $\\overrightarrow{v}$ la notación ket usa $\\ket{v}$.\n",
    "\n",
    "<div class=\"alert alert-block alert-info\"> <b>Definición:</b> Definimos el estado cero como $ \\ket{0} = \\myvector{1 \\\\ 0} $ y al estado uno  $ \\ket{1} = \\myvector{0\\\\ 1} $\n",
    "</div>\n",
    "\n",
    "Recordando la analogía de la moneda que hemos estado utilizando, podemos representar el estado \"cara\" con el vector $\\pstate{0} = \\myvector{1 \\\\ 0}$ y el estado \"cruz\" $\\pstate{1}=\\myvector{0 \\\\ 1}$. En otras palabras el vector $\\pstate{0}$ hace referencia a que existe una probabilidad de 100% de obtener en el estado \"cara\" y $0%$ \"cruz\", mientras que $\\pstate{1}$ indica la probabilidad de $0%$ de estar en el estado \"cara\" y $100%$ del estado \"cruz\".\n",
    "\n",
    "<div class=\"alert alert-block alert-success\"> <b>Nota:</b> El $\\ket{0}$ y el $\\ket{1}$ son <b> ortogonales </b> entre sí, esto es:\n",
    "$$ ⟨0|1⟩ = 1 \\cdot 0 + 0 \\cdot 1 = 0 $$\n",
    "    \n",
    "por ende forman una base, ahora es posible también escribir cualquier vector de $\\mathbb{C}^2$ como combinación lineal de $\\ket{0}$ y $\\ket{1}$.\n",
    "\n",
    "$$ \\myvector{\\alpha \\\\ \\beta } = \\alpha \\ket{0} + \\beta \\ket{1}$$\n",
    "</div>\n",
    "\n",
    "<div class=\"alert alert-block alert-info\"> <b>Definición:</b> Sean $a, b \\in \\mathbb{C}^N$, definimos las siguientes notaciones:\n",
    "<ul>\n",
    "    <li> <b> Ket </b> $\\ket{a} = \\myvector{a_0 \\\\ \\vdots \\\\ a_N } $ </li>\n",
    "    <li> <b> Bra </b> $\\bra{b} = \\ket{b}^{\\dagger} = \\myvector{b_0 \\\\ \\vdots \\\\ b_N}^{\\dagger} = \\myvector{\\overline{b_0}, \\ ..., \\ \\overline{b_N}} $ (Transpuesta Conjugada)</li>\n",
    "    <li> <b> Bra-Ket </b> $⟨a|b⟩ = a_0 \\cdot \\overline{b_0} \\ + \\ ... \\ +  \\ a_N \\cdot \\overline{b_N} = \\overline{⟨a|b⟩} \\in \\mathbb{C}$ </li>\n",
    "</ul>\n",
    "</div>\n",
    "\n",
    "\n",
    "\n",
    "Para denotar los qubits, usaremos la notación **Ket** |⋅⟩ , usada para representar vectores columna en la mecánica cuántica. \n",
    "\n",
    "Dado un vector columna |𝑣⟩, el vector fila correspondiente, es decir, su transpuesta, tomando cada entrada como el conjugado, representado como ⟨𝑣|, es la notación **Bra**, utilizada en mecánica cuántica para denotar a los vectores fila. \n",
    "\n",
    "<div class=\"alert alert-block alert-success\"> <b>Nota:</b> Recordemos que el conjugado de un número complejo $z_1 = a + bi$ es simplemente cambiar el signo de la parte imaginaria, esto es $ \\overline{z_1} = a - bi $. Notemos que para un número real, cuya parte imaginaria es $0$, el conjugado es el mismo número real. \n",
    "</div>\n",
    "\n",
    "<hr>"
   ]
  },
  {
   "cell_type": "markdown",
   "metadata": {
    "slideshow": {
     "slide_type": "subslide"
    }
   },
   "source": [
    "<h2 style=\" font-family:Georgia;font-weight: 500; color:#526760;\">Qubit</h2>\n",
    "\n",
    "Del mismo modo que un bit binario es la unidad básica de información en la computación clásica (o tradicional), un cúbit (o bit cuántico) es la unidad básica de información en la computación cuántica. A diferencia de un bit clásico, un qubit gracias a la superposición, puede representar un o, un $1$ o cualquier porcentaje de $0$ y $1$ (combinación lineal de ambos estados) con una probabilidad determinada de ser un $0$ y una probabilidad determinada de ser un $1$, esto se le conoce como superposición. \n",
    "\n",
    "\n",
    "Un qubit es un vector de $\\mathbb{C}^2$, por lo tanto lo podemos representar como $\\alpha \\ket{0 } + \\beta \\ket{1} $, lo cual representa el estado que es 0 y en 1 a la vez. \n",
    "\n",
    "<div class=\"alert alert-block alert-success\"> <b>Nota:</b> La cantidad de información que un sistema de cúbits puede representar aumenta de manera exponencial. La información que 500 cúbits pueden representar fácilmente no sería posible ni con más de $2^{500}$ bits clásicos. </div>\n",
    "\n",
    "<hr>"
   ]
  },
  {
   "cell_type": "markdown",
   "metadata": {
    "jp-MarkdownHeadingCollapsed": true,
    "slideshow": {
     "slide_type": "subslide"
    },
    "tags": []
   },
   "source": [
    "<h2 style=\" font-family:Georgia;font-weight: 500; color:#526760;\">Estado Cuántico</h2>\n",
    "\n",
    "Retomando lo explicado anteriormente para los qubits, estos son representados con vectores columna cuyas entradas son los coeficientes de las probabilidades de cada estado, analicemos los estados 0 y 1. \n",
    "\n",
    "$$ \n",
    "    \\ket{0} = \\myvector{1 \\\\ 0}\n",
    "    ~~~~~~\n",
    "    \\ket{1} = \\myvector{0\\\\ 1} \n",
    "$$\n",
    "\n",
    "Este nos expresa que el estado cero tiene una probabilidad del 100% de ser observado y el estado 1 nunca se observa, análogamente, para el qubit 1 tenemos una probabilidad del 100% para el estado 1 y 0% para el estado 0.\n",
    "\n",
    "Notemos que **la norma del vector siempre es uno**, esto es, el vector de probabilidades siempre es un **vector unitario (normalizado)**, en otras palabras, la suma de las probabilidades siempre debe ser igual a 1. Con esto en mente, definiremos ahora un **estado cuántico** pues con estos trabajaremos a partir de ahora.\n",
    "\n",
    "<div class=\"alert alert-block alert-info\"> <b>Definición:</b> Un <b>estado cuántico</b> modela el comportamiento de un qubit, y es un vector normalizado del espacio de Hilbert $\\mathbb{C}^2$.\n",
    "<br>\n",
    "Equivalentemente, se tendrá que  $\\psi$ es un estado cuántico sí y sólo si  ⟨$\\psi$|$\\psi$⟩ = 1.\n",
    "</div>\n",
    "\n",
    "Considerando la base $\\{\\ket{0}, \\ket{1}\\}$ de $\\mathbb{C}^2$, cualquier qubit puede escribirse como combinación lineal en términos de los vectores base de la forma $\\ket{\\phi} = \\alpha \\ket{0} + \\beta \\ket{1}$, con $|\\alpha|^2 + |\\beta|^2 = 1$.\n",
    "\n",
    "\n",
    "<div class=\"alert alert-block alert-success\"> <b>Nota:</b> A diferencia de un estado probabilístico, un estado cuántico puede tener entradas negativas. </div>\n",
    "\n",
    "**Ejemplos**\n",
    "\n",
    "- $\\myvector{\\frac{1}{2} \\\\ \\frac{-1}{2}}$ no representa un estado cuántico\n",
    "\n",
    "- $\\myvector{\\frac{1}{\\sqrt{2}} \\\\ \\frac{-1}{\\sqrt{2}}}$ representa un estado cuántico\n",
    "\n",
    "\n",
    "<hr>"
   ]
  },
  {
   "cell_type": "markdown",
   "metadata": {
    "slideshow": {
     "slide_type": "subslide"
    }
   },
   "source": [
    "\n",
    "<h2 style=\" font-family:Georgia;font-weight: 500; color:#526760;\">Composición de Estados Cuánticos</h2>\n",
    "\n",
    "<div class=\"alert alert-block alert-info\"> <b>Definición:</b> Un <b>sistema de n-qubits</b> es un vector del espacio $\\mathbb{C}^{2^n} = \\otimes_{i=1}^n \\mathbb{C}^2$.\n",
    "</div>\n",
    "\n",
    "\n",
    "En lugar de escribir $\\ket{\\alpha_1} \\otimes \\ket{\\alpha_2} \\ \\otimes \\ ... \\ \\otimes \\ \\ket{\\alpha_n}$ escribimos $\\ket{\\alpha_1 \\alpha_2...\\alpha_n}$.\n",
    "\n",
    "\n",
    "Un algoritmo cuántico consiste en la evolución de un sistema representado por n-qubits.\n",
    "\n",
    "<hr>\n"
   ]
  },
  {
   "cell_type": "markdown",
   "metadata": {
    "slideshow": {
     "slide_type": "subslide"
    }
   },
   "source": [
    "\n",
    "<h2 style=\" font-family:Georgia;font-weight: 500; color:#526760;\">Operadores</h2>\n",
    "\n",
    "<div class=\"alert alert-block alert-info\"> <b>Definición:</b> Un <b>operador </b> de $\\mathbb{C}^n$ es una matriz cuadrada de dimensión $n$ con coeficientes complejos.\n",
    "</div>\n",
    "\n",
    "\n",
    "<div class=\"alert alert-block alert-info\"> <b>Definición:</b> Un operador $A$ es un <b>operador hermítico</b> si $A = A^\\dagger$.\n",
    "</div>\n",
    "\n",
    "<div class=\"alert alert-block alert-success\"> <b>Nota:</b> Si es hermítico, su diagonal debe ser real, ya que $ \\alpha_{ij} = \\alpha_{ji}^*$, por lo tanto $\\alpha_{ii} = \\alpha_{ii}^*$.\n",
    "</div>\n",
    "\n",
    "<div class=\"alert alert-block alert-info\"> <b>Definición:</b> Un operador $U$ es un <b>operador unitario</b> si $U^\\dagger U = U U^\\dagger = I$, equivalentemente $U^\\dagger = U^{-1}$.\n",
    "</div>\n",
    "\n",
    "\n",
    "<hr>"
   ]
  },
  {
   "cell_type": "markdown",
   "metadata": {
    "slideshow": {
     "slide_type": "subslide"
    }
   },
   "source": [
    "\n",
    "<h2 style=\" font-family:Georgia;font-weight: 500; color:#526760;\">Compuertas Cuánticas</h2>\n",
    "\n",
    "<div class=\"alert alert-block alert-info\"> <b>Definición:</b> A los operadores unitarios y hermíticos se les llama <b>compuertas cuánticas</b> (operadores cuánticos), como analogía a las compuertas lógicas de la computación clásica, ya que serán esos los que se utilizan para realizar el cómputo.\n",
    "    \n",
    "</div>\n",
    "\n",
    "<div class=\"alert alert-block alert-success\"> <b>Nota:</b> Se dice que un sistema representado por $\\ket{\\psi}$ evoluciona al sistema $\\ket{\\phi}$ cuando se realiza una de las siguientes operaciones:\n",
    "    \n",
    "<br>\n",
    "- Se premultiplica por una compuerta cuántica $U$\n",
    "<br>  \n",
    "    $$\\ket{\\phi} = U\\ket{\\psi}$$\n",
    "\n",
    "  <br>\n",
    "- Se aplica un operador de medición  $M = \\{M_1, ..., M_k\\}$.\n",
    "</div>\n",
    "<hr>\n",
    "\n",
    "\n",
    "<div class=\"alert alert-block alert-success\"> <b>Nota:</b> Dado un estado cuántico $ \\ket{u} =  \\myvector{x \\\\ y} \\in \\mathbb{R}^2 $ y un operador cuántico $H$, entonces el producto $ \\ket{u'} = H \\ket{u} $ vuelve a ser un estado cuántico . </div>\n",
    "<hr>\n"
   ]
  },
  {
   "cell_type": "markdown",
   "metadata": {
    "slideshow": {
     "slide_type": "subslide"
    }
   },
   "source": [
    "\n",
    "<h2 style=\" font-family:Georgia;font-weight: 500; color:#526760;\"> Compuerta Hadamard</h2>\n",
    "\n",
    "\n",
    "En el tercer experimento, definimos a la matriz $M$ cuyas entradas son todas $\\frac{1}{2}$, pero dados los resultados de dicho experimento tenemos que definir una nueva matriz que sí modele de manera correcta el comportamiento. \n",
    "\n",
    "Por definición, sabemos que las entradas un estado cuántico cumplen que la suma del cuadrado de sus normas es igual a 1. Para cada uno de los resultados del primer experimento, obtuvimos una probabilidad de $\\frac{1}{2}$, esto implicaría que el estado cuántico es el vector columna $\\myvector{\\frac{1}{2} \\\\ \\frac{1}{2}}$ elevado a la $\\frac{1}{2}$, esto es $\\phi = \\myvector{\\frac{1}{\\sqrt{2}} \\\\ \\frac{1}{\\sqrt{2}}}$. A continuación deduciremos el operador cuántico que transforma al $\\ket{0}$ y al $\\ket{1}$ en $\\phi$.\n",
    "\n",
    "Primero creamos una matriz $2 \\times 2$ arbitraria $$A = \\begin{pmatrix} a & b \\\\ c & d \\end{pmatrix}$$\n",
    "\n",
    "Ahora la operamos con el $\\ket{0}$ de tal forma que el resultado sea $\\phi$, esto es \n",
    "\n",
    "$$\\begin{pmatrix} a & b \\\\ c & d \\end{pmatrix} \\cdot \\myvector{1 \\\\ 0} = \\myvector{a*0 + b*1 \\\\ c*0 + d*1} = \\myvector{\\frac{1}{\\sqrt{2}} \\\\ \\frac{1}{\\sqrt{2}}}$$\n",
    "\n",
    "Resolviendo el sistema de ecuaciones, obtenemos que $b = d = \\frac{1}{\\sqrt{2}}$, mientras que $a$ y $c$ son variables libres, esto quiere decir que $a$ y $c$ pueden tomar cualquier valor. Por otro lado, al operar $A$ con el $\\ket{1}$, obtenemos\n",
    "\n",
    "$$\\begin{pmatrix} a & b \\\\ c & d \\end{pmatrix} \\cdot \\myvector{0 \\\\ 1} = \\myvector{a*1 + b*0 \\\\ c*1 + d*0} = \\myvector{\\frac{1}{\\sqrt{2}} \\\\ \\frac{1}{\\sqrt{2}}}$$\n",
    "\n",
    "De donde $a = c = \\frac{1}{\\sqrt{2}}$ y ahora $b$ y $d$ son variables libres. De aquí podemos concluir que $A$ es la matriz\n",
    "\n",
    "$$A = \\begin{pmatrix} \\frac{1}{\\sqrt{2}} & \\frac{1}{\\sqrt{2}} \\\\ \\frac{1}{\\sqrt{2}} & \\frac{1}{\\sqrt{2}} \\end{pmatrix}$$\n",
    "\n",
    "Notemos que el determinante de $A$ es 0, esto significa que $A$ como la definimos no tiene inversa, lo cual no nos ayuda al tratar de encontrar el estado al que aplicamos $A$. En español: vimos que aplicar $A$ al $\\ket{0}$ y al $\\ket{1}$ obtenemos el mismo resultado $\\phi$, es decir $A \\cdot \\ket {0} = A \\cdot \\ket{1}$, lo cual no nos permite identificar el estado del que partimos. Para solucionar esto, debemos crear una matriz invertible con ayuda de la definición de estado cuántico, es decir, que al elevar al cuadrado las entradas, no afecta si son positivas o negativas, así no alteramos el coeficiente de $\\frac{1}{2}$. Por convención, hacemos la última entrada de aplicar la matriz a $\\ket{1}$ negativa:\n",
    "\n",
    "$$H \\cdot \\ket{1} = \\myvector{\\frac{1}{\\sqrt{2}} \\\\ \\frac{-1}{\\sqrt{2}}}=  \\begin{pmatrix} \\frac{1}{\\sqrt{2}} & \\frac{1}{\\sqrt{2}} \\\\ \\frac{1}{\\sqrt{2}} & \\frac{-1}{\\sqrt{2}} \\end{pmatrix} \\cdot \\myvector{0 \\\\ 1} $$\n",
    "\n",
    "<div class=\"alert alert-block alert-info\"> <b>Definición:</b>A la matriz $H$ se le conoce como <b>compuerta Hadamard</b> la cual es un operador cuántico. Como operador, la compuerta Hadamard tiene la siguiente forma:\n",
    "$$H = \\frac{1}{\\sqrt{2}} \\cdot \\begin{pmatrix} 1 & 1 \\\\ 1 & -1 \\end{pmatrix}  = \\begin{pmatrix} \\frac{1}{\\sqrt{2}} & \\frac{1}{\\sqrt{2}} \\\\ \\frac{1}{\\sqrt{2}} & \\frac{-1}{\\sqrt{2}} \\end{pmatrix}$$\n",
    "    \n",
    "        \n",
    "$$ H \\ket{0} = \\frac{1}{\\sqrt{2}} \\ket{0} + \\frac{1}{\\sqrt{2}} \\ket{1} $$\n",
    "$$ H \\ket{1} = \\frac{1}{\\sqrt{2}} \\ket{0} - \\frac{1}{\\sqrt{2}} \\ket{1} $$\n",
    "\n",
    "    \n",
    "</div>\n",
    "\n",
    "<div class=\"alert alert-block alert-success\"> <b>Nota:</b> La compuerta Hadamard nos servirá de ayuda para simular el lanzamiento de una moneda cuántica. En Qiskit se le conoce como <b>h-gate</b>.</div>\n",
    "\n",
    "<hr>"
   ]
  },
  {
   "cell_type": "markdown",
   "metadata": {
    "slideshow": {
     "slide_type": "subslide"
    },
    "tags": []
   },
   "source": [
    "\n",
    "<h2 style=\" font-family:Georgia;font-weight: 500; color:#526760;\">Más Compuertas</h2>\n",
    "\n",
    "Así como esta la compuerta Hadamard, en computación cuántica se utilizan más compuertas de este estilo, presentamos compuertas para un sólo qubit (sí, podemos tener más qubits).\n",
    "\n",
    "<h3 style=\" font-family:Georgia;font-weight: 500; color:#526760;\">Compuerta X</h3>\n",
    "\n",
    "<div class=\"alert alert-block alert-info\"> <b>Definición:</b>Definimos la matriz $X$ como\n",
    "    \n",
    "$$ X = \\begin{pmatrix} 0 & 1 \\\\ 1 & 0 \\end{pmatrix}$$\n",
    "    \n",
    "A la matriz $X$ se le conoce como <b>compuerta NOT</b> la cual es un operador cuántico.\n",
    "</div>\n",
    "\n",
    "<div class=\"alert alert-block alert-success\"> <b>Nota:</b> La compuerta $NOT$ se carecteriza por tener los siguientes efectos el los kets 0 y 1. \n",
    "\n",
    "$$X \\ket{0} = \\ket{1} \\text{ y } X \\ket{1} = \\ket{0}$$\n",
    "    \n",
    "En Qiskit se le conoce como **x-gate**.\n",
    "\n",
    "</div>\n",
    "\n",
    "<h3 style=\" font-family:Georgia;font-weight: 500; color:#526760;\">Compuerta Z</h3>\n",
    "\n",
    "<div class=\"alert alert-block alert-info\"> <b>Definición:</b>Definimos la matriz $Z$ como\n",
    "    \n",
    "$$ Z = \\begin{pmatrix} 1 & 0 \\\\ 0 & -1 \\end{pmatrix}$$\n",
    "    \n",
    "A la matriz $Z$ se le conoce como <b>compuerta Z</b> la cual es un operador cuántico.\n",
    "</div>\n",
    "\n",
    "<div class=\"alert alert-block alert-success\"> <b>Nota:</b> La compuerta Z se caracteriza por invertir el signo de la segunda entrada del estado cuántico al que lo apliquemos. En Qiskit se le conoce como <b>z-gate</b>.\n",
    "\n",
    "</div>\n",
    "\n",
    "<hr>"
   ]
  },
  {
   "cell_type": "markdown",
   "metadata": {
    "slideshow": {
     "slide_type": "subslide"
    },
    "tags": []
   },
   "source": [
    "\n",
    "\n",
    "<h2 style=\" font-family:Georgia;font-weight: 500; color:#526760;\">Graficación de un Qubit</h2>\n",
    "\n",
    "Podemos ver la representación gráfica de un qubit con la ayuda de \"<b>matplotlib</b>\", iniciaremos viendo la representación de los siguientes estados cuánticos (verificar que en efecto con estados cuánticos válidos):\n",
    "\n",
    "<div style=\"text-align:center;\">\n",
    "    <div style=\"color:red; \">\n",
    "$ \\ket{0} =  \\myvector{1\\\\0} , $ </div> <div style=\"color:blue; \">$ \\ket{1} = \\myvector{0\\\\1} , $</div> <div style=\"color:green; \"> $ -\\ket{0} = \\myrvector{-1\\\\0}, $ </div>$\\mbox{ y }$ <div style=\"color:yellow; \">$ -\\ket{1} = \\myrvector{0\\\\-1}. $ </div>\n",
    "</div>"
   ]
  },
  {
   "cell_type": "code",
   "execution_count": 9,
   "metadata": {
    "slideshow": {
     "slide_type": "subslide"
    },
    "tags": []
   },
   "outputs": [
    {
     "data": {
      "image/png": "[encoded data removed]",
      "text/plain": [
       "<Figure size 480x480 with 1 Axes>"
      ]
     },
     "metadata": {},
     "output_type": "display_data"
    }
   ],
   "source": [
    "# importamos los métodos para dibujar\n",
    "from matplotlib.pyplot import figure, arrow, show\n",
    "\n",
    "# dibujamos una figura\n",
    "figure(figsize=(6,6), dpi=80)\n",
    "\n",
    "\n",
    "from libraries.drawing import draw_axes, draw_unit_circle, draw_quantum_state, draw_qubit, draw_qubit_grover, show_plt\n",
    "\n",
    "from libraries.quantum_state import random_qstate_by_value, random_qstate_by_angle, angle_qstate\n",
    "\n",
    "from libraries.grover import giant_oracle, giant_oracle2, giant_diffusion, Uf, Uf_8\n",
    "\n",
    "# dibujamos los ejes\n",
    "draw_axes()\n",
    "\n",
    "# dibujamos los estados cuánticos con vectores (rojo, azúl, verde y amarillo)\n",
    "arrow(0,0,0.92,0,head_width=0.04, head_length=0.08, color=\"r\")\n",
    "arrow(0,0,0,0.92,head_width=0.04, head_length=0.08, color=\"b\")\n",
    "arrow(0,0,-0.92,0,head_width=0.04, head_length=0.08, color=\"g\")\n",
    "arrow(0,0,0,-0.92,head_width=0.04, head_length=0.08, color=\"y\")\n",
    "\n",
    "show()"
   ]
  },
  {
   "cell_type": "markdown",
   "metadata": {
    "slideshow": {
     "slide_type": "subslide"
    }
   },
   "source": [
    "<h3 style=\" font-family:Georgia;font-weight: 500; color:#526760;\">Rotaciones</h3>\n",
    "\n",
    "Notamos que tenemos vectores sobre los ejes:\n",
    "   - Para el vector rojo que representa al estado $\\ket{0}$, el ángulo correspondiente es $\\theta_1 = 0$\n",
    "   - Para el vector azúl que representa al estado $\\ket{1}$, el ángulo correspondiente es $\\theta_1 = \\frac{\\pi}{2}$\n",
    "   - Para el vector verde que representa al estado $- \\ket{0}$, el ángulo correspondiente es $\\theta_1 = \\pi$\n",
    "   - Para el vector amarillo que representa al estado $- \\ket{1}$, el ángulo correspondiente es $\\theta_1 = \\frac{3 \\cdot \\pi}{2} $\n",
    "   \n",
    "Por supuesto, se pueden trazar vectores en toda la circunferencia, como todos son estados cuánticos, ésta tendrá radio igual a $1$. El resto de los estados para cubrir [$0, 2 \\pi$] se obtienen al aplicar las compuertas cuánticas que ya vimos. Veamoslas en acción. "
   ]
  },
  {
   "cell_type": "code",
   "execution_count": 10,
   "metadata": {
    "slideshow": {
     "slide_type": "subslide"
    },
    "tags": []
   },
   "outputs": [
    {
     "data": {
      "image/png": "[encoded data removed]",
      "text/plain": [
       "<Figure size 600x600 with 1 Axes>"
      ]
     },
     "metadata": {},
     "output_type": "display_data"
    }
   ],
   "source": [
    "draw_qubit()\n",
    "\n",
    "sqrttwo=2**0.5\n",
    "\n",
    "draw_quantum_state(1,0,\"\")\n",
    "\n",
    "draw_quantum_state(1/sqrttwo,1/sqrttwo,\"|+>\")\n",
    "\n",
    "# drawing the angle with |0>-axis\n",
    "from matplotlib.pyplot import gca, text\n",
    "from matplotlib.patches import Arc\n",
    "gca().add_patch( Arc((0,0),0.4,0.4,angle=0,theta1=0,theta2=45) )\n",
    "#text(0.08,0.05,'',fontsize=80)\n",
    "text(0.21,0.09,'\\u03C0/4')\n",
    "show_plt()"
   ]
  },
  {
   "cell_type": "markdown",
   "metadata": {
    "slideshow": {
     "slide_type": "subslide"
    }
   },
   "source": [
    "Inicialmente tenemos el estado $\\ket{0}$, al aplicarle la compuerta Hadamard, obtenemos una rotación de $\\frac{\\pi}{4}$ obteniendo el vector resultante en la gráfica. \n",
    "\n",
    "\n",
    "<h3 style=\" font-family:Georgia;font-weight: 500; color:#526760;\">Reflecciones</h3>\n",
    "\n",
    "La compuerta $Z$ es un ejemplo de operador de reflección, como mencionamos antes, esta compuerta invierte el signo de la segunda entrada de el estado cuántico, esto gráficamente se traduce a un cambio de cuadrante en la segunda componente. "
   ]
  },
  {
   "cell_type": "code",
   "execution_count": 5,
   "metadata": {
    "slideshow": {
     "slide_type": "subslide"
    }
   },
   "outputs": [
    {
     "data": {
      "image/png": "[encoded data removed]",
      "text/plain": [
       "<Figure size 600x600 with 1 Axes>"
      ]
     },
     "metadata": {},
     "output_type": "display_data"
    }
   ],
   "source": [
    "draw_qubit()\n",
    "\n",
    "draw_quantum_state(3/5,4/5,\"u\")\n",
    "\n",
    "draw_quantum_state(3/5,-4/5,\"u'\")\n",
    "\n",
    "show_plt()"
   ]
  },
  {
   "cell_type": "markdown",
   "metadata": {
    "slideshow": {
     "slide_type": "subslide"
    }
   },
   "source": [
    "Notemos que si volvemos a aplicar el operado $Z$ al vector resultante $u'$ volvemos a obtener $u$. Es fácil notar que el eje de reflección de esta compuerta es el eje $x$.\n",
    "<hr>"
   ]
  },
  {
   "cell_type": "markdown",
   "metadata": {
    "slideshow": {
     "slide_type": "slide"
    },
    "tags": []
   },
   "source": [
    "\n",
    "<h1 style=\" font-family:Georgia;font-weight: 600; color:#38526E;\">Introducción a la programación Cuántica</h1>"
   ]
  },
  {
   "cell_type": "markdown",
   "metadata": {
    "slideshow": {
     "slide_type": "subslide"
    },
    "tags": []
   },
   "source": [
    "<h2 style=\" font-family:Georgia;font-weight: 500; color:#526760;\">Introducción a Qiskit</h2>\n",
    "\n",
    "Qiskit es un kit de desarrollo de software creado por IBM para trabajar con computadoras cuánticas a nivel de circuitos, pulsos y algoritmos. Proporciona herramientas para crear y manipular programas cuánticos y ejecutarlos en dispositivos cuánticos prototipo en IBM Quantum Experience o en simuladores en una computadora local.\n",
    "Lo podemos instalar ejecutando lo siguiente:"
   ]
  },
  {
   "cell_type": "code",
   "execution_count": 2,
   "metadata": {
    "slideshow": {
     "slide_type": "fragment"
    }
   },
   "outputs": [
    {
     "name": "stdout",
     "output_type": "stream",
     "text": [
      "/bin/bash: pip: command not found\n"
     ]
    }
   ],
   "source": [
    "!pip install \"qiskit[visualization]\" "
   ]
  },
  {
   "cell_type": "markdown",
   "metadata": {
    "slideshow": {
     "slide_type": "subslide"
    }
   },
   "source": [
    "<h3 style=\" font-family:Georgia;font-weight: 500; color:#526760;\">Primeos Pasos con Qiskit</h3>\n",
    "\n",
    "Aprenderemos a crear un circuito cuántico con qiskit, el cuál está formado de un qubit y un bit. "
   ]
  },
  {
   "cell_type": "code",
   "execution_count": 7,
   "metadata": {
    "slideshow": {
     "slide_type": "fragment"
    }
   },
   "outputs": [
    {
     "data": {
      "image/png": "[encoded data removed]",
      "text/plain": [
       "<Figure size 222.116x284.278 with 1 Axes>"
      ]
     },
     "execution_count": 7,
     "metadata": {},
     "output_type": "execute_result"
    }
   ],
   "source": [
    "from qiskit import QuantumRegister, ClassicalRegister, QuantumCircuit, execute, Aer\n",
    "from random import randrange\n",
    "\n",
    "qreg = QuantumRegister(2)  # creando dos qubits\n",
    "creg = ClassicalRegister(2)  # creando dos bits clásicos\n",
    "circuit = QuantumCircuit(qreg,creg)  # creando el circuito que los contiene\n",
    "\n",
    "# se asocia un bit clásico para medir un qubit\n",
    "circuit.measure(qreg[0],creg[0])\n",
    "\n",
    "circuit.draw(output='mpl')"
   ]
  },
  {
   "cell_type": "markdown",
   "metadata": {
    "slideshow": {
     "slide_type": "fragment"
    }
   },
   "source": [
    "Cuando creamos un qubit, y lo medimos, el resultado se almacena en un bit clásico, por esta razón, por cada qubit, se necesita crear un bit correspondiente. \n",
    "\n",
    "<hr>"
   ]
  },
  {
   "cell_type": "markdown",
   "metadata": {
    "slideshow": {
     "slide_type": "subslide"
    }
   },
   "source": [
    "\n",
    "<h2 style=\" font-family:Georgia;font-weight: 500; color:#526760;\">Circuitos Cuánticos con Qikskit</h2>\n",
    "\n",
    "<h3 style=\" font-family:Georgia;font-weight: 500; color:#526760;\">Circuito con Un Solo Qubit</h3>\n",
    "\n",
    "Vamos a aprender a aplicar compuertas a nuestros qubits con qikskit. Un circuito cuántico en qiskit está compuesto de un bit cuántico y un bit clásico. Diseñamos un circuito cuántico con un solo qubit y un solo bit clásico. Aplicaremos la compuerta NOT al qubit, después lo mediremos llevándolo al colapso y el resultado lo guardaremos en el bit clásico.\n"
   ]
  },
  {
   "cell_type": "code",
   "execution_count": 1,
   "metadata": {
    "slideshow": {
     "slide_type": "fragment"
    }
   },
   "outputs": [
    {
     "data": {
      "image/png": "[encoded data removed]",
      "text/plain": [
       "<Figure size 228.341x144.48 with 1 Axes>"
      ]
     },
     "execution_count": 1,
     "metadata": {},
     "output_type": "execute_result"
    }
   ],
   "source": [
    "# importamos todos los objetos y métodos que usaremos\n",
    "from qiskit import QuantumRegister, ClassicalRegister, QuantumCircuit\n",
    "\n",
    "# usamos un registro cuántico para guardar nuestrso bits cuánticos.\n",
    "q =  QuantumRegister(1,\"qreg\")  #  aquí cremamos un solo qubit\n",
    "# el segundo parámetro es el nombre del qubit y es opcional\n",
    "\n",
    "# creamos un registro para un bit clásico \n",
    "c = ClassicalRegister(1,\"creg\")  # aquí, solo creamos uno solo\n",
    "\n",
    "# definimos nuestra circuito cuántico con nuestros qubits y bits clásicos\n",
    "qc = QuantumCircuit(q,c)\n",
    "\n",
    "# la compuerta NOT en qikskit es \"x-gate\" la cual recive como parámetro la posición del bit al que lo \n",
    "# estaremos aplicando, en este caso, nuestro qubit tiene la posición 0\n",
    "qc.x(q[0]) # los qubits son enumerados iniciando desde 0\n",
    "# el operador NOT esta siendo aplicado al primer qubit de nuestro circuito \n",
    "\n",
    "# la medición esta definida al asociar un qubit con su bit correspondiente \n",
    "qc.measure(q[0],c[0])\n",
    "# después de la medición, vemos el resultado guardado en el bit clásico \n",
    "\n",
    "# dibujamos el sistema con ayuda de matplotlib\n",
    "qc.draw(output='mpl') "
   ]
  },
  {
   "cell_type": "markdown",
   "metadata": {
    "slideshow": {
     "slide_type": "subslide"
    }
   },
   "source": [
    "<h3 style=\" font-family:Georgia;font-weight: 500; color:#526760;\">Circuito con más qubits</h3>\n",
    "\n",
    "Trabajemos ahora con 4 qubits, porque podemos y queremos."
   ]
  },
  {
   "cell_type": "code",
   "execution_count": 2,
   "metadata": {
    "slideshow": {
     "slide_type": "fragment"
    }
   },
   "outputs": [
    {
     "data": {
      "image/png": "[encoded data removed]",
      "text/plain": [
       "<Figure size 663.012x325.08 with 1 Axes>"
      ]
     },
     "execution_count": 2,
     "metadata": {},
     "output_type": "execute_result"
    }
   ],
   "source": [
    "# importamos todos los objetos y métodos que usaremos\n",
    "from qiskit import QuantumRegister, ClassicalRegister, QuantumCircuit\n",
    "\n",
    "q2 = QuantumRegister(4,\"qreg\")\n",
    "c2 = ClassicalRegister(4,\"creg\")\n",
    "qc2 = QuantumCircuit(q2,c2)\n",
    "\n",
    "# aplicamos la compuerta NOT al primer qubit dos veces \n",
    "qc2.x(q2[0])\n",
    "qc2.x(q2[0])\n",
    "\n",
    "# aplicamos la compuerta NOT al cuarto qubit una vez\n",
    "qc2.x(q2[3])\n",
    "\n",
    "# aplicamos la compuerta NOT al tercer qubit tres veces \n",
    "qc2.x(q2[2])\n",
    "qc2.x(q2[2])\n",
    "qc2.x(q2[2])\n",
    "\n",
    "# aplicamos la compuerta NOT al segundo qubit cuatro veces\n",
    "qc2.x(q2[1])\n",
    "qc2.x(q2[1])\n",
    "qc2.x(q2[1])\n",
    "qc2.x(q2[1])\n",
    "\n",
    "# definimos barrier para visualizar\n",
    "qc2.barrier()\n",
    "\n",
    "# Si los resultados son los mismos, medimos todo en una sola línea\n",
    "qc2.measure(q2,c2)\n",
    "\n",
    "# dibujamos el sistema con ayuda de matplotlib\n",
    "qc2.draw(output='mpl') "
   ]
  },
  {
   "cell_type": "markdown",
   "metadata": {
    "slideshow": {
     "slide_type": "skip"
    }
   },
   "source": [
    "<hr>"
   ]
  },
  {
   "cell_type": "markdown",
   "metadata": {
    "slideshow": {
     "slide_type": "subslide"
    }
   },
   "source": [
    "<h2 style=\" font-family:Georgia;font-weight: 500; color:#526760;\">Simulación de los experimentos</h2>\n",
    "\n",
    "<h3 style=\" font-family:Georgia;font-weight: 500; color:#526760;\">Primer Experimento</h3>\n",
    "\n",
    "Empecemos con la compuerta Hadamard. Creamos un circuito de un solo qubit simulando una modena cuántica y aplicamos Hadamard para simular el lanzamiento de esta. Nuestro qubit (<b>qubit</b>) inicia en el estado $0$, es decir, $ \\ket{0} = \\myvector{1 \\\\ 0} $."
   ]
  },
  {
   "cell_type": "code",
   "execution_count": 3,
   "metadata": {
    "slideshow": {
     "slide_type": "fragment"
    }
   },
   "outputs": [
    {
     "data": {
      "image/png": "[encoded data removed]",
      "text/plain": [
       "<Figure size 228.341x144.48 with 1 Axes>"
      ]
     },
     "execution_count": 3,
     "metadata": {},
     "output_type": "execute_result"
    }
   ],
   "source": [
    "# importamos todos los objetos y métodos necesarios para un circuito cuántico\n",
    "from qiskit import QuantumRegister, ClassicalRegister, QuantumCircuit, execute, Aer\n",
    "\n",
    "# definimos un regitro de un solo qubit \n",
    "q =  QuantumRegister(1,\"qreg\")\n",
    "\n",
    "# definimos un registro con un solo bit cuántico\n",
    "# guarda la medición resultante de la parte cuántica\n",
    "c = ClassicalRegister(1,\"creg\")\n",
    "\n",
    "# definimos un circuito cuántico\n",
    "qc = QuantumCircuit(q,c)\n",
    "\n",
    "# applicamos la h-gate (Hadamard: lanzamiento de la moneda cuántica) al primer qubit\n",
    "qc.h(q[0])\n",
    "\n",
    "# medimos el primer qubit llevandolo al colapso y lo guardamos en el bit clásico\n",
    "qc.measure(q,c)\n",
    "\n",
    "# dibujamos el sistema con ayuda de matplotlib\n",
    "qc.draw(output='mpl') "
   ]
  },
  {
   "cell_type": "code",
   "execution_count": 4,
   "metadata": {
    "slideshow": {
     "slide_type": "fragment"
    }
   },
   "outputs": [
    {
     "name": "stdout",
     "output_type": "stream",
     "text": [
      "{'0': 4929, '1': 5071}\n",
      "\n",
      "Estado 0 es observado con una frecuencia 49.29\n",
      "Estado 1 es observado con una frecuencia 50.71\n"
     ]
    },
    {
     "data": {
      "image/png": "[encoded data removed]",
      "text/plain": [
       "<Figure size 504x360 with 1 Axes>"
      ]
     },
     "execution_count": 4,
     "metadata": {},
     "output_type": "execute_result"
    }
   ],
   "source": [
    "# ejecutamos el experimento 1000 veces para acumular información suficiente \n",
    "\n",
    "job = execute(qc,Aer.get_backend('qasm_simulator'), shots=10000)\n",
    "counts = job.result().get_counts(qc)\n",
    "print(counts, end='\\n\\n') \n",
    "\n",
    "n_zeros = counts['0']\n",
    "n_ones = counts['1']\n",
    "print(\"Estado 0 es observado con una frecuencia\", 100*n_zeros/(n_zeros + n_ones))\n",
    "print(\"Estado 1 es observado con una frecuencia\", 100*n_ones/(n_zeros + n_ones))\n",
    "\n",
    "# usamos un histograma\n",
    "from qiskit.visualization import plot_histogram\n",
    "plot_histogram(counts)"
   ]
  },
  {
   "cell_type": "markdown",
   "metadata": {
    "slideshow": {
     "slide_type": "fragment"
    }
   },
   "source": [
    "Obtenemos lo predicho, aproximadamente un $50%$ en cada estado.\n"
   ]
  },
  {
   "cell_type": "markdown",
   "metadata": {
    "slideshow": {
     "slide_type": "subslide"
    }
   },
   "source": [
    "\n",
    "<h3 style=\" font-family:Georgia;font-weight: 500; color:#526760;\">Tercer Experimento</h3>\n",
    "\n",
    "Aquí, usamos un circuito con un solo qubit y aplicamos Hadamard dos veces, es decir, lanzamos dos veces nuestra moneda cuántica. "
   ]
  },
  {
   "cell_type": "code",
   "execution_count": 5,
   "metadata": {
    "slideshow": {
     "slide_type": "fragment"
    }
   },
   "outputs": [
    {
     "data": {
      "image/png": "[encoded data removed]",
      "text/plain": [
       "<Figure size 301.812x144.48 with 1 Axes>"
      ]
     },
     "execution_count": 5,
     "metadata": {},
     "output_type": "execute_result"
    }
   ],
   "source": [
    "# importamos todos los objeto y métodos necesarios para el circuito cuántico \n",
    "from qiskit import QuantumRegister, ClassicalRegister, QuantumCircuit, execute, Aer\n",
    "\n",
    "# definimos un regitro de un solo qubit\n",
    "q2 =  QuantumRegister(1,\"qreg2\")\n",
    "\n",
    "# definimos un registro con un solo bit cuántico\n",
    "# guarda la medición resultante de la parte cuántica\n",
    "c2 = ClassicalRegister(1,\"creg2\")\n",
    "\n",
    "# definimos un circuito cuántico\n",
    "qc2 = QuantumCircuit(q2,c2)\n",
    "\n",
    "# applicamos la h-gate (Hadamard: lanzamiento de la moneda cuántica) al primer qubit\n",
    "qc2.h(q2[0])\n",
    "\n",
    "# applicamos la h-gate (Hadamard: lanzamiento de la moneda cuántica) al primer qubit una vez más\n",
    "qc2.h(q2[0])\n",
    "\n",
    "# medimos el primer qubit llevandolo al colapso y lo guardamos en el bit clásico\n",
    "qc2.measure(q2,c2)\n",
    "\n",
    "# dibujamos el sistema con ayuda de matplotlib\n",
    "qc2.draw(output='mpl') "
   ]
  },
  {
   "cell_type": "code",
   "execution_count": 6,
   "metadata": {
    "slideshow": {
     "slide_type": "fragment"
    }
   },
   "outputs": [
    {
     "name": "stdout",
     "output_type": "stream",
     "text": [
      "{'0': 10000}\n"
     ]
    }
   ],
   "source": [
    "# ejecutamos 1000 veces el circuito para recopilar información suficiente \n",
    "job = execute(qc2,Aer.get_backend('qasm_simulator'),shots=10000)\n",
    "counts2 = job.result().get_counts(qc2)\n",
    "print(counts2) "
   ]
  },
  {
   "cell_type": "markdown",
   "metadata": {
    "slideshow": {
     "slide_type": "subslide"
    }
   },
   "source": [
    "Obtenemos el mismo resultado que en el análisis, aunque es el resultado menos intuitivo, esto es, luego de aplicar Hadamard dos veces a un qubit, sin importar cuántas veces hagamos ese experimento, podemos estar seguros de que el 100% de las veces obtendremos un resultado determinado, justo el que queremos. Con la computación cuántica, jamás volverás a perder en un volado. Lo que hicimos fue aplicar la compuerta Hadamard dos veces al qubit $\\ket{0}$ y obtuvimos de nuevo el $\\ket{0}$, en este experimento, el 100% de las veces observamos el estado 0. Podemos apostarle la vida a este experimento de que al lanzar dos veces una moneda cuántica, volveremos a obtener ese mismo estado. \n",
    "\n",
    "<hr>"
   ]
  },
  {
   "cell_type": "markdown",
   "metadata": {
    "slideshow": {
     "slide_type": "slide"
    },
    "tags": []
   },
   "source": [
    "\n",
    "<h1 style=\" font-family:Georgia;font-weight: 600; color:#38526E;\">Entrelazamiento</h1>\n",
    "El término fue introducido en 1935 por Erwin Schrödinger para describir un fenómeno de mecánica cuántica que se demuestra en los experimentos, cuya relevancia para la física teórica no se comprendió bien inicialmente. Un conjunto de partículas entrelazadas no pueden definirse como partículas individuales con estados definidos, sino como un sistema con una función de onda única para todo el sistema.\n",
    "\n",
    "El entrelazamiento es un fenómeno cuántico, sin equivalente clásico, en el cual los estados cuánticos de dos o más objetos se deben describir mediante un estado único que involucra a todos los objetos del sistema, aun cuando los objetos estan separados espacialmente.\n"
   ]
  },
  {
   "cell_type": "markdown",
   "metadata": {
    "slideshow": {
     "slide_type": "subslide"
    },
    "tags": []
   },
   "source": [
    "<h2 style=\" font-family:Georgia;font-weight: 500; color:#526760;\">Dos qubits</h2>\n",
    "\n",
    "El estado $ \\ket{ab} $ significa que\n",
    "<ul>\n",
    "    <li>el primer qubit esta en el estado $ \\ket{a} $ y </li>\n",
    "    <li>el segundo qubit esta en el estado$ \\ket{b} $, </li>\n",
    "</ul>\n",
    "con $ a,b \\in \\{0,1\\} $.\n",
    "\n",
    "$ \\ket{ab} = \\ket{a} \\otimes \\ket{b} $\n",
    "\n",
    "Cuando tenemos dos qubits podemos representarlos como $ \\ket{00}, \\ket{01}, \\ket{10}, \\ket{11} $, su representación con vectores es la siguiente:\n",
    "\n",
    "$$\n",
    "    \\ket{00} = \\myvector{1 \\\\ 0 \\\\ 0 \\\\ 0},\n",
    "    ~~~~~~\n",
    "    \\ket{01} = \\myvector{0 \\\\ 1 \\\\ 0 \\\\ 0},\n",
    "    ~~~~~~\n",
    "    \\ket{10} = \\myvector{0 \\\\ 0 \\\\ 1 \\\\ 0},\n",
    "    ~~~ \\mbox{ y }  ~~~\n",
    "    \\ket{11} = \\myvector{0 \\\\ 0 \\\\ 0 \\\\ 1}.\n",
    "$$\n",
    "\n",
    "<div class=\"alert alert-block alert-success\"> <b>Nota:</b> Para más qubits, la representación es análoga. Por ejemplo, si tenemos $k$ qubits, tendremos $ \\ket{b_1b_2\\cdots b_k} $, con cada $ b_j \\in \\{0,1\\} $ con $ 1 \\leq j \\leq k $.</div>\n",
    "\n",
    "<hr>"
   ]
  },
  {
   "cell_type": "markdown",
   "metadata": {
    "slideshow": {
     "slide_type": "subslide"
    },
    "tags": []
   },
   "source": [
    "<h2 style=\" font-family:Georgia;font-weight: 500; color:#526760;\">Hadamard en Dos Qubits</h2>\n",
    "\n",
    "Ahora nuestro vector tiene $4$ componentes, para esto, un operador cuántico debe ser de tamaño $4 \\times 4$, conseguimos esto con el producto tensorial de los operadores definidos para un solo qubit. Iniciamos con el operador Hadamard para dos qubits, primero, hacemos el siguient eproducto tensorial:\n",
    "\n",
    "$$ H^{\\otimes 2} = H \\otimes H = \\hadamard \\otimes \\hadamard = \\Htwo $$\n",
    "\n",
    "Ahora apliquemoslo a dos qubits, es decir, encontremos el resutado de operar el $\\ket{00}$ con la compuerta Hadamard, lo presentamos de tres maneras diferentes:\n",
    "\n",
    "<ol>\n",
    "    <li> Hacemos el producto directo entre matriz y vector:\n",
    "        $$\n",
    "            H^{\\otimes 2} \\ket{00} \n",
    "            = \\Htwo \\myvector{1 \\\\ 0 \\\\ 0 \\\\ 0} \n",
    "            = \\myvector{ \\frac{1}{2} \\\\ \\frac{1}{2} \\\\ \\frac{1}{2} \\\\ \\frac{1}{2} } .\n",
    "        $$ </li> \n",
    "    <li> Calculamos el estado cuántico de cada estado, y luego encontramos el estado cuántico del estado compuesto. \n",
    "        $$\n",
    "            H\\ket{0} \\otimes H \\ket{0} \n",
    "            = \\stateplus \\otimes \\stateplus \n",
    "            = \\myvector{ \\frac{1}{2} \\\\ \\frac{1}{2} \\\\ \\frac{1}{2} \\\\ \\frac{1}{2} }.\n",
    "        $$ </li>\n",
    "    <li> Hacemos cálculos con $ \\ket{0} $ y $ \\ket{1} $.\n",
    "        $$\n",
    "            H \\ket{0} \\otimes H \\ket{0} \n",
    "            = \\mypar{ \\frac{1}{\\sqrt{2}} \\ket{0} + \\frac{1}{\\sqrt{2}} \\ket{1} } \n",
    "                \\otimes \\mypar{ \\frac{1}{\\sqrt{2}} \\ket{0} + \\frac{1}{\\sqrt{2}} \\ket{1} }\n",
    "            = \\frac{1}{2} \\ket{00} + \\frac{1}{2} \\ket{01} + \\frac{1}{2} \\ket{10} + \\frac{1}{2} \\ket{11} \n",
    "            = \\myvector{ \\frac{1}{2} \\\\ \\frac{1}{2} \\\\ \\frac{1}{2} \\\\ \\frac{1}{2} }\n",
    "        $$\n",
    "</ol>\n",
    "\n",
    "Para los demás estados obtenemos los siguientes resultados:\n",
    "\n",
    "$$\n",
    "    H^{\\otimes 2} \\ket{01}  \n",
    "    = \\myrvector{ \\frac{1}{2} \\\\ \\frac{1}{2} \\\\ - \\frac{1}{2} \\\\ - \\frac{1}{2} },\n",
    "    ~~~~~~\n",
    "    H^{\\otimes 2} \\ket{10}  \n",
    "    = \\myrvector{ \\frac{1}{2} \\\\ \\frac{1}{2} \\\\ - \\frac{1}{2} \\\\ - \\frac{1}{2} },\n",
    "    ~~~~~~\n",
    "    H^{\\otimes 2} \\ket{11}  \n",
    "            = \\myrvector{ \\frac{1}{2} \\\\ - \\frac{1}{2} \\\\ - \\frac{1}{2} \\\\ \\frac{1}{2} }.\n",
    "    ~~~ \n",
    "$$\n",
    "\n",
    "<div class=\"alert alert-block alert-success\"> <b>Nota:</b> Para cualquier operador cuántico en un solo qubit, siempre podemos definir el producto tensorial consigo mismo $n$ veces y aplicarlo entonces a $n$ qubits, sin importar cuál de las tres formas presentadas anteriormente usemos.</div>\n",
    "<hr>"
   ]
  },
  {
   "cell_type": "markdown",
   "metadata": {
    "slideshow": {
     "slide_type": "subslide"
    },
    "tags": []
   },
   "source": [
    "<h2 style=\" font-family:Georgia;font-weight: 500; color:#526760;\">Operadores en Dos Qubits</h2>\n",
    "\n",
    "<div class=\"alert alert-block alert-success\"> <b>Nota:</b> En programación cuántica con Qiskit, a los operadores cuánticos se les conoce como <b>compuertas</b>, las cuales son matrices cuadradas que sólo serán unitarias y por lo tanto invertibles, es decir, con determinante distinto de cero. </div>\n",
    "\n",
    "**Operador CNOT**\n",
    "\n",
    "<div class=\"alert alert-block alert-info\"> <b>Definición:</b> Definimos el operador NOT-Controlado, denotado <b>CNOT</b>, como la siguiente matriz. $$ CNOT = \\mymatrix{cccc}{1 & 0 & 0 & 0 \\\\ 0 & 1 & 0 & 0 \\\\ 0 & 0 & 0 & 1 \\\\ 0 & 0 & 1 & 0} $$ </div>\n",
    "\n",
    "<div class=\"alert alert-block alert-success\"> <b>Nota:</b> El operador CNOT tiene el estos efectos el los siguientes estados:\n",
    "    \n",
    "<ul>\n",
    "    <li>$ CNOT \\ket{00} = \\ket{00} $, </li>\n",
    "    <li>$ CNOT \\ket{01} = \\ket{01} $, </li>\n",
    "    <li>$ CNOT \\ket{10} = \\ket{11} $, </li>\n",
    "    <li>$ CNOT \\ket{11} = \\ket{10} $. </li>\n",
    "</ul>\n",
    "    \n",
    "En qiskit se le conoce como <b>cx-gate</b>. El controlado es porque hay un qubit que <b>controla</b> el resultado y un qubit <b>objetivo</b>:\n",
    "   \n",
    "<ul>\n",
    "    <li>Si el primer qubit es $0$, el estado se queda igual.  </li>\n",
    "    <li>Si el primer qubit es $1$, sólo cambia el segundo qubit al estado opuesto. </li>\n",
    "</ul>\n",
    "\n",
    "</div>\n",
    "\n",
    "<hr>"
   ]
  },
  {
   "cell_type": "markdown",
   "metadata": {
    "slideshow": {
     "slide_type": "subslide"
    },
    "tags": []
   },
   "source": [
    "<h2 style=\" font-family:Georgia;font-weight: 500; color:#526760;\">Matemáticas del Entrelazamiento Cuántico</h2>\n",
    "\n",
    "Crisel tiene un qubit en el estado inicial $\\ket{0}$ y Julio tiene otro qubit en el mismo estado inicial. \n",
    "\n",
    "Crisel aplica Hadamard a su qubit, ahora el estado de su qubit es $ \\stateplus $\n",
    "\n",
    "Luego, Crisel y Julio combinan sus qubits, el estado cuántico ahora es \n",
    "\n",
    "$$ \\stateplus \\otimes \\vzero = \\myvector{ \\frac{1}{\\sqrt{2}} \\\\ 0 \\\\ \\frac{1}{\\sqrt{2}} \\\\ 0 }  $$\n",
    "\n",
    "Crisel y Julio aplican el operador CNOT en dos qubits, obtenemos\n",
    "\n",
    "$$ \\CNOT \\myvector{ \\frac{1}{\\sqrt{2}} \\\\ 0 \\\\ \\frac{1}{\\sqrt{2}} \\\\ 0 }  = \\myvector{ \\frac{1}{\\sqrt{2}} \\\\ 0 \\\\0 \\\\ \\frac{1}{\\sqrt{2}} } = \\frac{1}{\\sqrt{2}}\\ket{00} + \\frac{1}{\\sqrt{2}}\\ket{11}  $$\n",
    "\n",
    "En este momento, los qubits de Crisel y Julio están correlacionados con el otro. Si medimos ambos qubits, observamos el estado $ \\ket{00} $ o $ \\ket{11} $.\n",
    "\n",
    "Supongamos que Crisel observa su qubit, entonces\n",
    "\n",
    "<ul>\n",
    "    <li> Cuando Crisel vea el resultado $ \\ket{0} $, entonces Julio verá también como su qubit colapsa al mismo estado. Julio no podrá observar el estado $ \\ket{1} $. </li>\n",
    "    <li> Cuando Crisel vea el resultado $ \\ket{1} $, entonces el qubit de Julio también colapsa al estado $ \\ket{1} $. Julio no podrá observar el estado $ \\ket{0} $. </li>\n",
    "</ul>\n",
    "\n",
    "Experimentalmente, los resultados confirman que esto ocurre aun cuando hay una distancia física entre los qubits de Crisel y Julio. Pareciera que las partículas cuánticas están correlacionadas y pueden *afectarse una a otra instantáneamente, incluso si éstas están en diferentes partes del universo*.\n",
    "\n",
    "<div class=\"alert alert-block alert-info\"> <b>Definición:</b> Si dos qubits están correlacionados de esta manera, decimos que estan <b>entrelazados</b>. Si un estado cuántico no se puede escribir de la forma $ \\ket{u} \\otimes \\ket{v} $, entonces hay un entrelazamiento entre los qubits. </div>\n",
    "<hr>"
   ]
  },
  {
   "cell_type": "markdown",
   "metadata": {
    "jp-MarkdownHeadingCollapsed": true,
    "slideshow": {
     "slide_type": "subslide"
    },
    "tags": []
   },
   "source": [
    "<h2 style=\" font-family:Georgia;font-weight: 500; color:#526760;\">Estados de Bell</h2>\n",
    "\n",
    "<div class=\"alert alert-block alert-info\"> <b>Definición:</b> Hay cuatro estados con entrelazamiento máximo, llamados <b> estado de Bell </b>, estos son:\n",
    "    \n",
    "$$\n",
    "    \\ket{\\Psi^{00}} = \\frac{1}{\\sqrt(2)}(\\ket{00}+\\ket{11}),\n",
    "    ~~~~~~\n",
    "    \\ket{\\Psi^{01}} = \\sqrt(2)(\\ket{01}+\\ket{10}),\n",
    "$$\n",
    "$$\n",
    "    \\ket{\\Psi^{10}} = \\frac{1}{\\sqrt(2)}(\\ket{00}-\\ket{11}),\n",
    "    ~~~~~~ \\mbox{ y }  ~~~~~~\n",
    "    \\ket{\\Psi^{11}} = \\frac{1}{\\sqrt(2)}(\\ket{01}-\\ket{10}).\n",
    "$$\n",
    " \n",
    "    \n",
    "</div>\n",
    "\n",
    "<div class=\"alert alert-block alert-success\"> <b>Nota:</b> Los estados de Bell pueden crearse fácilmente aplicando el operador Hadamard seguido del operador $CNOT$ a los estados $ \\ket{00}, \\ket{01}, \\ket{10}, \\ket{11} $. </div>\n",
    "\n",
    "<div class=\"alert alert-block alert-info\"> <b>Definición:</b> Si tenemos un estado de Bell y queremos saber a que estado corresponde, podemos saberlo simplemente aplicando las compuertas de manera invertida, esto es, aplicar primero el operador $CNOT$ seguido del operador Hadamard al estado de Bell. A este procedimiento inverso se le llama <b>medición de Bell</b>. </div>\n",
    "\n",
    "<hr>"
   ]
  },
  {
   "cell_type": "markdown",
   "metadata": {
    "slideshow": {
     "slide_type": "slide"
    },
    "tags": []
   },
   "source": [
    "\n",
    "<h1 style=\" font-family:Georgia;font-weight: 600; color:#38526E;\">Programación Cuántica</h1>\n",
    "\n",
    "Haremos un circuito cuántico con dos qubits, aplicaremos la compuerta $CNOT$, la cual recibe dos argumentos, el qubit controlador y el qubit objetivo, esto para cada uno de los estados $ \\ket{00}, \\ket{01}, \\ket{10}, \\ket{11} $ y después medimos."
   ]
  },
  {
   "cell_type": "code",
   "execution_count": null,
   "metadata": {
    "slideshow": {
     "slide_type": "fragment"
    }
   },
   "outputs": [],
   "source": [
    "from qiskit import QuantumCircuit, execute, Aer"
   ]
  },
  {
   "cell_type": "code",
   "execution_count": 6,
   "metadata": {
    "slideshow": {
     "slide_type": "fragment"
    }
   },
   "outputs": [
    {
     "data": {
      "image/png": "[encoded data removed]",
      "text/plain": [
       "<Figure size 370.906x284.278 with 1 Axes>"
      ]
     },
     "metadata": {},
     "output_type": "display_data"
    },
    {
     "name": "stdout",
     "output_type": "stream",
     "text": [
      "11 --CNOT-> {'00': 1024}\n"
     ]
    },
    {
     "data": {
      "image/png": "[encoded data removed]",
      "text/plain": [
       "<Figure size 454.517x284.278 with 1 Axes>"
      ]
     },
     "metadata": {},
     "output_type": "display_data"
    },
    {
     "name": "stdout",
     "output_type": "stream",
     "text": [
      "11 --CNOT-> {'01': 1024}\n"
     ]
    },
    {
     "data": {
      "image/png": "[encoded data removed]",
      "text/plain": [
       "<Figure size 454.517x284.278 with 1 Axes>"
      ]
     },
     "metadata": {},
     "output_type": "display_data"
    },
    {
     "name": "stdout",
     "output_type": "stream",
     "text": [
      "11 --CNOT-> {'11': 1024}\n"
     ]
    },
    {
     "data": {
      "image/png": "[encoded data removed]",
      "text/plain": [
       "<Figure size 454.517x284.278 with 1 Axes>"
      ]
     },
     "metadata": {},
     "output_type": "display_data"
    },
    {
     "name": "stdout",
     "output_type": "stream",
     "text": [
      "11 --CNOT-> {'10': 1024}\n"
     ]
    }
   ],
   "source": [
    "pares = ['00','01','10','11']\n",
    "\n",
    "for par in pares:\n",
    "    qc = QuantumCircuit(2,2)\n",
    "    if par[1] == '1':  # si el segundo qubit esta en el estado 1, aplicamos CNOT al primer qubit\n",
    "        qc.x(0)\n",
    "    if par[0] =='1':  # si el primer qubit esta en el estado 1, aplicamos CNOT al segundo qubit\n",
    "        qc.x(1)\n",
    "    qc.cx(1,0)\n",
    "    qc.measure(0,0)  # medimos\n",
    "    qc.measure(1,1)  # ambos\n",
    "    display(qc.draw(output='mpl',reverse_bits=True)) #dibujamos\n",
    "    job = execute(qc,Aer.get_backend('qasm_simulator'),shots=1024)\n",
    "    counts = job.result().get_counts(qc)\n",
    "    print(pair,\"--CNOT->\",counts)"
   ]
  },
  {
   "cell_type": "markdown",
   "metadata": {
    "slideshow": {
     "slide_type": "skip"
    }
   },
   "source": [
    "<hr>"
   ]
  },
  {
   "cell_type": "markdown",
   "metadata": {
    "slideshow": {
     "slide_type": "slide"
    },
    "tags": []
   },
   "source": [
    "\n",
    "<h1 style=\" font-family:Georgia;font-weight: 600; color:#38526E;\">Algoritmos Fundamentales</h1>\n",
    "\n"
   ]
  },
  {
   "cell_type": "markdown",
   "metadata": {
    "slideshow": {
     "slide_type": "subslide"
    }
   },
   "source": [
    "<h2 style=\" font-family:Georgia;font-weight: 500; color:#526760;\">Teletransportación Cuántica</h2>\n",
    "\n",
    "Crisel quiere enviarle un estado (desconocido) $\\ket{\\phi}_S:=\\alpha \\ket{0} + \\beta \\ket{1}$ ($\\alpha, \\beta \\in \\mathbb{C}$) a Julio. Crisel solo puede enviarle la información en dos bits clásicos. Ambos deben compartir el estado de mayor entrelazamiento $$\\ket{\\Psi^{00}}_{AB} = \\frac{1}{\\sqrt(2)}(\\ket{00}_{CJ}+\\ket{11}_{CJ})$$\n",
    "\n",
    "El **estado inicial del sistema** será \n",
    "$$\\ket{\\phi}_S \\otimes \\ket{\\Psi^{00}}_{CJ} = \\frac{1}{\\sqrt(2)}(\\alpha \\ket{000}_{SCJ} + \\alpha \\ket{011}_{SCJ} + \\beta \\ket{100}_{SCJ} + \\beta \\ket{111}_{SCJ}) $$\n",
    "\n",
    "Así, tenemos 3 pasos\n",
    "\n",
    "<ol>\n",
    "    <li> Crisel aplica una medición de Bell a su qubit y a $\\ket{\\phi}_S$ obteniendo así el estado en el cual           se encuentra el qubit de Julio. Al aplicar el operador $CNOT$, el estado de Crisel es el qubit controlador y el estado $\\ket{\\phi}_S$ es el qubit objetivo.</li>\n",
    "    <li> Crisel le envia dos bits clásicos $i$ y $j$ a Julio, los cuales guardan la información de las mediciones anteriores </li>\n",
    "    <li> Según los valores de $i$ y $j$, Julio determinará qué operador cuántico aplicar a sus qubits y obtiene el estado $\\ket{\\phi}_S$</li>\n",
    "    \n",
    "<b>Resultado de la medición \"00\":</b> El estado del qubit de Julio es $ \\alpha\\ket{0}+\\beta\\ket{1} $. \n",
    "\n",
    "Julio no necesita aplicar ningun operador. \n",
    "\n",
    "<b>Resultado de la medición \"01\":</b> El estado del qubit de Julio es $ \\alpha\\ket{1}+\\beta\\ket{0} $. \n",
    "\n",
    "Si Julio aplica el operador $NOT$, el estado será: $ \\alpha \\ket{0}+\\beta \\ket{1} $.\n",
    "\n",
    "<b>Resultado de la medición \"10\":</b> El estado del qubit de Julio es $ \\alpha\\ket{0}-\\beta\\ket{1} $. \n",
    "\n",
    "Si Julio aplica el operador $Z$, el estado será: $ \\alpha\\ket{0}+\\beta\\ket{1} $.\n",
    "\n",
    "<b>Resultado de la medición \"11\":</b> El estado del qubit de Julio es $ \\alpha\\ket{1}-\\beta\\ket{0} $. \n",
    "\n",
    "Si Julio aplica el operador $NOT$ y el operador $Z$, el estado será: $ \\alpha\\ket{0}+\\beta\\ket{1} $.\n",
    "</ol>\n",
    "\n",
    "<div class=\"alert alert-block alert-success\"> <b>Nota:</b> El estado del qubit de Crisel colapsa con la medición, así que ella ya no tiene el estado inicial $\\ket{\\phi}_S$, pues se pierde esta información. Crisel no puede hacer una copia de su estado, solo puede enviarle su estado a Julio una vez destruyendo el suyo. </div>"
   ]
  },
  {
   "cell_type": "code",
   "execution_count": 13,
   "metadata": {
    "slideshow": {
     "slide_type": "subslide"
    }
   },
   "outputs": [
    {
     "data": {
      "image/png": "[encoded data removed]",
      "text/plain": [
       "<Figure size 956.385x451.5 with 1 Axes>"
      ]
     },
     "metadata": {},
     "output_type": "display_data"
    },
    {
     "name": "stdout",
     "output_type": "stream",
     "text": [
      "el estado inicial es:  00\n"
     ]
    }
   ],
   "source": [
    "from qiskit import QuantumRegister, ClassicalRegister, QuantumCircuit, execute, Aer\n",
    "\n",
    "# circuito cuántico con 3 qubits y dos bits \n",
    "q =  QuantumRegister(3,\"q\") \n",
    "c1 = ClassicalRegister(1,\"c1\") \n",
    "c2 = ClassicalRegister(1,\"c2\") \n",
    "qc = QuantumCircuit(q,c1,c2)\n",
    "\n",
    "# creando un etrelazamiento entre q[1](S) y q[0](J)\n",
    "qc.h(q[1])\n",
    "qc.cx(q[1],q[0])\n",
    "\n",
    "# Crisel aplica el operador CNOT en el qubit de Crisel q[2](C) el qubit controlador\n",
    "qc.cx(q[2],q[1])\n",
    "\n",
    "#  Crisel aplica eloperador Hadamard a q[2](C)\n",
    "qc.h(q[2])\n",
    "\n",
    "qc.barrier()\n",
    "\n",
    "# medimos\n",
    "qc.measure(q[2],c2)\n",
    "qc.measure(q[1],c1)\n",
    "\n",
    "qc.barrier()\n",
    "\n",
    "# Julio recibe la información\n",
    "qc.x(q[0]).c_if(c1,1)\n",
    "qc.z(q[0]).c_if(c2,1)\n",
    "\n",
    "# dibujamos\n",
    "display(qc.draw(output='mpl',reverse_bits=True))\n",
    "\n",
    "# leemos el estado del vector\n",
    "job = execute(qc,Aer.get_backend('statevector_simulator'),optimization_level=0,shots=1)\n",
    "current_quantum_state=job.result().get_statevector(qc).data\n",
    "\n",
    "classical_outcomes = ['00','01','10','11']\n",
    "\n",
    "for i in range(4):\n",
    "    if (current_quantum_state[2*i].real != 0) or (current_quantum_state[2*i+1].real != 0):\n",
    "        print(\"el estado inicial es: \",classical_outcomes[i])"
   ]
  },
  {
   "cell_type": "markdown",
   "metadata": {
    "slideshow": {
     "slide_type": "skip"
    }
   },
   "source": [
    "<hr>"
   ]
  },
  {
   "cell_type": "markdown",
   "metadata": {
    "slideshow": {
     "slide_type": "subslide"
    }
   },
   "source": [
    "<h2 style=\" font-family:Georgia;font-weight: 500; color:#526760;\">Comunicación Cuántica</h2>\n",
    "\n",
    "Después de tener un entrelazamiento, Julio lleva su qubit lejos. Crisel enviará dos bits clásicos de información solo enviando su qubit. Describimos el protocolo:\n",
    "\n",
    "- Crisel tiene dos bits clásicos de información $ a,b \\in \\{0,1\\} $\n",
    "\n",
    "Hay cuatro posibles valores para el par $ (a,b) $:  $ (0,0), (0,1), (1,0),\\mbox{ or } (1,1) $\n",
    "\n",
    "Si $a$ es 1, entonces Crisel aplica la compuerta Z, i.e., $ Z = \\Z $, a su qubit. \n",
    "\n",
    "Si $b$ es 1, entonces Crisel aplica la compuerta NOT a su qubit, i.e., la compuerta $X = \\X$.\n",
    "\n",
    "Luego, Crisel envia su qubit a Julio.\n",
    "\n",
    "**Después de la comunicación**\n",
    "\n",
    "Julio tiene ambos qubits. Julio aplica la compuerta CNOT, donde el qubit de Crisel es el controlador. Entonces, Julio aplica la compuerta Hadamard al qubit de Crisel y mide ambos qubits, el resultado será exactamente $(a,b)$.\n",
    "\n",
    "<hr>"
   ]
  },
  {
   "cell_type": "markdown",
   "metadata": {
    "slideshow": {
     "slide_type": "subslide"
    }
   },
   "source": [
    "<h2 style=\" font-family:Georgia;font-weight: 500; color:#526760;\">Grover</h2>\n",
    "\n",
    "Tenemos muchos números almacenados en una estructura (lista, array, etc) y estan desordenados, y queremos encontrar la posición de un elemento en específico, en programación se tomaría un iterador y se compara con cada uno de los elementos de la lista, por ejemplo:\n"
   ]
  },
  {
   "cell_type": "code",
   "execution_count": null,
   "metadata": {
    "slideshow": {
     "slide_type": "fragment"
    }
   },
   "outputs": [],
   "source": [
    "lista = [0,1,2,3,4,5,6,7,8,9,10,11,12,13,14,15]\n",
    "\n",
    "elemento_a_buscar = 7"
   ]
  },
  {
   "cell_type": "markdown",
   "metadata": {
    "slideshow": {
     "slide_type": "fragment"
    },
    "tags": []
   },
   "source": [
    "Imaginemos que nuestra lista tiene los números del uno al un millón y nos tardamos un segundo en cada comparación. Si buscamos un número, en el mejor de los casos podría estar en la primer posición y tardarnos un segundo buscándolo, pero en el peor de los casos podría estar en la última posición y tardaríamos un millón de segundos en buscarlo. Y qué pasa ahora si en lugar de números, buscamos objetos o personas sin orden, en este caso, hay muchos métodos que ayudan a reducir el tiempo en búsqueda lineal para números, pero para objetos no hay más que comparar uno a uno. El algoritmo de Grover nos ayuda a tardarnos menos. \n",
    "\n",
    "*Si tenemos una lista de N elementos y queremos buscar uno en específico, en el peor de los casos haríamos N pruebas, este algoritmo reduce las pruebas a solo $\\sqrt(N)$.*\n",
    "\n",
    "Pongamos la siguiente situación: queremos buscar el primer caso de covid en todo México, supongamos que iremos preguntando a cada persona \"¿tienes covid?\" e hipotéticamente, sólo la persona que es el primer caso responderá \"sí\". Supongamos que nos tardamos un segundo en preguntar y obtener respuesta y si las cosas son malas, siempre pueden ser peores, así que supongamos también que la persona que responda que sí, es la última a quien visitamos. Hay un registro de $130, 262, 220$ personas que viven en México en lo que va del 2022, según nuestro planteamiento, tardaremos $130, 262, 220$ segundos, aproximadamente 4.13 años. En la pandemia de covid real, esto no sería para nada factible. Pongamos el algoritmo de Grover en escena, y para que sea justo, en el mismo caso, el pero de todos, con $N = 130, 262, 220$ segundos. Según el algoritmo cuántico nos tardaremos $$ \\sqrt{N} = \\sqrt{130, 262, 220} = 3609.18 \\text{ segundos }$$\n",
    "\n",
    "Esto en horas es ... ¿están listos? ¡NO ESTÁN LISTOS! $1.00255 \\text{ horas } = 60.153 \\text{ minutos }$\n"
   ]
  },
  {
   "cell_type": "markdown",
   "metadata": {
    "slideshow": {
     "slide_type": "slide"
    }
   },
   "source": [
    "<h2 style=\" font-family:Georgia;font-weight: 500; color:#526760;\">Bibliografía</h2>\n",
    "\n",
    "- WOMANIUM\n",
    "- IBM QUANTUM MACHINE LEARNING\n",
    "- Libro de biblio\n",
    "- Functional Analysis, Walter Rudin\n",
    "- Linear Algebra, Stephen H. Friedberg 1st edition\n",
    "- Del nuestro\n",
    "    - Posibles estados de un qubit mil veces\n",
    "    - Esfera de Bloch\n",
    "   \n",
    "<hr>"
   ]
  },
  {
   "cell_type": "markdown",
   "metadata": {
    "slideshow": {
     "slide_type": "skip"
    },
    "tags": []
   },
   "source": [
    "<h2 style=\" font-family:Georgia;font-weight: 500; color:#526760;\">Semblanza</h2>\n",
    "\n",
    "Crisel Escalante Ochoa, estudiante de sexto semestre de la lic. en física y matemáticas de la escuela superior de física y matemáticas. Miembro fundadora del Club de Divulgación ESFM. Ha participado en las Jornadas Académicas Didáctica Ciencias en 2019 con el ensayo de divulgación \"La ciencia en la música\" y en 2022 con el video y esnayo de dovulgación \"Números fantásticos y dónde encontrarlos: La Proporción Áurea\". Entró al Programa Institucional para Formación de Investigadores con la doctora Gabriela Rueda Morales en el proyecto nano-cultivos de estructuras de carbono. \n",
    "<hr>"
   ]
  },
  {
   "cell_type": "code",
   "execution_count": null,
   "metadata": {
    "slideshow": {
     "slide_type": "skip"
    }
   },
   "outputs": [],
   "source": []
  }
 ],
 "metadata": {
  "celltoolbar": "Slideshow",
  "kernelspec": {
   "display_name": "Python 3 (ipykernel)",
   "language": "python",
   "name": "python3"
  },
  "language_info": {
   "codemirror_mode": {
    "name": "ipython",
    "version": 3
   },
   "file_extension": ".py",
   "mimetype": "text/x-python",
   "name": "python",
   "nbconvert_exporter": "python",
   "pygments_lexer": "ipython3",
   "version": "3.10.0"
  },
  "toc-autonumbering": false,
  "toc-showtags": false
 },
 "nbformat": 4,
 "nbformat_minor": 4
}
